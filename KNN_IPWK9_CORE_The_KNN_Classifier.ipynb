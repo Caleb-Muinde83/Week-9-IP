{
  "nbformat": 4,
  "nbformat_minor": 0,
  "metadata": {
    "colab": {
      "name": "KNN-IPWK9-CORE-The KNN Classifier",
      "provenance": [],
      "collapsed_sections": [
        "T8jsY6PmiZQW"
      ]
    },
    "kernelspec": {
      "name": "python3",
      "display_name": "Python 3"
    }
  },
  "cells": [
    {
      "cell_type": "markdown",
      "metadata": {
        "id": "afVKIlhcWTYy"
      },
      "source": [
        "# **DATA ANALYSIS**"
      ]
    },
    {
      "cell_type": "markdown",
      "metadata": {
        "id": "Ihbtr2Xeqxqi"
      },
      "source": [
        "### **Data Checking**"
      ]
    },
    {
      "cell_type": "code",
      "metadata": {
        "id": "nfHhHUEXWWGe"
      },
      "source": [
        "# importing libraries\n",
        "import pandas as pd\n",
        "import numpy as np\n",
        "import seaborn as sns\n",
        "import matplotlib\n",
        "from matplotlib import pyplot as plt\n",
        "%matplotlib inline"
      ],
      "execution_count": null,
      "outputs": []
    },
    {
      "cell_type": "code",
      "metadata": {
        "id": "WDZRQ8Htco3Q"
      },
      "source": [
        "\n",
        "import warnings\n",
        "warnings.filterwarnings('ignore')"
      ],
      "execution_count": null,
      "outputs": []
    },
    {
      "cell_type": "code",
      "metadata": {
        "id": "L3zdMo9YY0_F"
      },
      "source": [
        "# reading datasets\n",
        "df = pd.read_csv('https://archive.org/download/train5_202002/train%20%285%29.csv')"
      ],
      "execution_count": null,
      "outputs": []
    },
    {
      "cell_type": "code",
      "metadata": {
        "id": "ee3TnljiZs3b",
        "colab": {
          "base_uri": "https://localhost:8080/"
        },
        "outputId": "fb160dc2-c791-44a9-e108-93c454f364fa"
      },
      "source": [
        "# previewing the dataset\n",
        "df.shape"
      ],
      "execution_count": null,
      "outputs": [
        {
          "output_type": "execute_result",
          "data": {
            "text/plain": [
              "(891, 12)"
            ]
          },
          "metadata": {},
          "execution_count": 10
        }
      ]
    },
    {
      "cell_type": "code",
      "metadata": {
        "id": "pNQNFZaGaxUn",
        "colab": {
          "base_uri": "https://localhost:8080/",
          "height": 202
        },
        "outputId": "f011d7d6-082c-48f9-cd78-c65a5248ba27"
      },
      "source": [
        "# previewing the top of the dataset\n",
        "df.head()"
      ],
      "execution_count": null,
      "outputs": [
        {
          "output_type": "execute_result",
          "data": {
            "text/html": [
              "<div>\n",
              "<style scoped>\n",
              "    .dataframe tbody tr th:only-of-type {\n",
              "        vertical-align: middle;\n",
              "    }\n",
              "\n",
              "    .dataframe tbody tr th {\n",
              "        vertical-align: top;\n",
              "    }\n",
              "\n",
              "    .dataframe thead th {\n",
              "        text-align: right;\n",
              "    }\n",
              "</style>\n",
              "<table border=\"1\" class=\"dataframe\">\n",
              "  <thead>\n",
              "    <tr style=\"text-align: right;\">\n",
              "      <th></th>\n",
              "      <th>PassengerId</th>\n",
              "      <th>Survived</th>\n",
              "      <th>Pclass</th>\n",
              "      <th>Name</th>\n",
              "      <th>Sex</th>\n",
              "      <th>Age</th>\n",
              "      <th>SibSp</th>\n",
              "      <th>Parch</th>\n",
              "      <th>Ticket</th>\n",
              "      <th>Fare</th>\n",
              "      <th>Cabin</th>\n",
              "      <th>Embarked</th>\n",
              "    </tr>\n",
              "  </thead>\n",
              "  <tbody>\n",
              "    <tr>\n",
              "      <th>0</th>\n",
              "      <td>1</td>\n",
              "      <td>0</td>\n",
              "      <td>3</td>\n",
              "      <td>Braund, Mr. Owen Harris</td>\n",
              "      <td>male</td>\n",
              "      <td>22.0</td>\n",
              "      <td>1</td>\n",
              "      <td>0</td>\n",
              "      <td>A/5 21171</td>\n",
              "      <td>7.2500</td>\n",
              "      <td>NaN</td>\n",
              "      <td>S</td>\n",
              "    </tr>\n",
              "    <tr>\n",
              "      <th>1</th>\n",
              "      <td>2</td>\n",
              "      <td>1</td>\n",
              "      <td>1</td>\n",
              "      <td>Cumings, Mrs. John Bradley (Florence Briggs Th...</td>\n",
              "      <td>female</td>\n",
              "      <td>38.0</td>\n",
              "      <td>1</td>\n",
              "      <td>0</td>\n",
              "      <td>PC 17599</td>\n",
              "      <td>71.2833</td>\n",
              "      <td>C85</td>\n",
              "      <td>C</td>\n",
              "    </tr>\n",
              "    <tr>\n",
              "      <th>2</th>\n",
              "      <td>3</td>\n",
              "      <td>1</td>\n",
              "      <td>3</td>\n",
              "      <td>Heikkinen, Miss. Laina</td>\n",
              "      <td>female</td>\n",
              "      <td>26.0</td>\n",
              "      <td>0</td>\n",
              "      <td>0</td>\n",
              "      <td>STON/O2. 3101282</td>\n",
              "      <td>7.9250</td>\n",
              "      <td>NaN</td>\n",
              "      <td>S</td>\n",
              "    </tr>\n",
              "    <tr>\n",
              "      <th>3</th>\n",
              "      <td>4</td>\n",
              "      <td>1</td>\n",
              "      <td>1</td>\n",
              "      <td>Futrelle, Mrs. Jacques Heath (Lily May Peel)</td>\n",
              "      <td>female</td>\n",
              "      <td>35.0</td>\n",
              "      <td>1</td>\n",
              "      <td>0</td>\n",
              "      <td>113803</td>\n",
              "      <td>53.1000</td>\n",
              "      <td>C123</td>\n",
              "      <td>S</td>\n",
              "    </tr>\n",
              "    <tr>\n",
              "      <th>4</th>\n",
              "      <td>5</td>\n",
              "      <td>0</td>\n",
              "      <td>3</td>\n",
              "      <td>Allen, Mr. William Henry</td>\n",
              "      <td>male</td>\n",
              "      <td>35.0</td>\n",
              "      <td>0</td>\n",
              "      <td>0</td>\n",
              "      <td>373450</td>\n",
              "      <td>8.0500</td>\n",
              "      <td>NaN</td>\n",
              "      <td>S</td>\n",
              "    </tr>\n",
              "  </tbody>\n",
              "</table>\n",
              "</div>"
            ],
            "text/plain": [
              "   PassengerId  Survived  Pclass  ...     Fare Cabin  Embarked\n",
              "0            1         0       3  ...   7.2500   NaN         S\n",
              "1            2         1       1  ...  71.2833   C85         C\n",
              "2            3         1       3  ...   7.9250   NaN         S\n",
              "3            4         1       1  ...  53.1000  C123         S\n",
              "4            5         0       3  ...   8.0500   NaN         S\n",
              "\n",
              "[5 rows x 12 columns]"
            ]
          },
          "metadata": {},
          "execution_count": 11
        }
      ]
    },
    {
      "cell_type": "code",
      "metadata": {
        "id": "levrJ5VDa09C",
        "colab": {
          "base_uri": "https://localhost:8080/",
          "height": 202
        },
        "outputId": "1461a54d-b120-419d-eb2a-e68c30846d22"
      },
      "source": [
        "# previewing the tail of the dataset\n",
        "df.tail()"
      ],
      "execution_count": null,
      "outputs": [
        {
          "output_type": "execute_result",
          "data": {
            "text/html": [
              "<div>\n",
              "<style scoped>\n",
              "    .dataframe tbody tr th:only-of-type {\n",
              "        vertical-align: middle;\n",
              "    }\n",
              "\n",
              "    .dataframe tbody tr th {\n",
              "        vertical-align: top;\n",
              "    }\n",
              "\n",
              "    .dataframe thead th {\n",
              "        text-align: right;\n",
              "    }\n",
              "</style>\n",
              "<table border=\"1\" class=\"dataframe\">\n",
              "  <thead>\n",
              "    <tr style=\"text-align: right;\">\n",
              "      <th></th>\n",
              "      <th>PassengerId</th>\n",
              "      <th>Survived</th>\n",
              "      <th>Pclass</th>\n",
              "      <th>Name</th>\n",
              "      <th>Sex</th>\n",
              "      <th>Age</th>\n",
              "      <th>SibSp</th>\n",
              "      <th>Parch</th>\n",
              "      <th>Ticket</th>\n",
              "      <th>Fare</th>\n",
              "      <th>Cabin</th>\n",
              "      <th>Embarked</th>\n",
              "    </tr>\n",
              "  </thead>\n",
              "  <tbody>\n",
              "    <tr>\n",
              "      <th>886</th>\n",
              "      <td>887</td>\n",
              "      <td>0</td>\n",
              "      <td>2</td>\n",
              "      <td>Montvila, Rev. Juozas</td>\n",
              "      <td>male</td>\n",
              "      <td>27.0</td>\n",
              "      <td>0</td>\n",
              "      <td>0</td>\n",
              "      <td>211536</td>\n",
              "      <td>13.00</td>\n",
              "      <td>NaN</td>\n",
              "      <td>S</td>\n",
              "    </tr>\n",
              "    <tr>\n",
              "      <th>887</th>\n",
              "      <td>888</td>\n",
              "      <td>1</td>\n",
              "      <td>1</td>\n",
              "      <td>Graham, Miss. Margaret Edith</td>\n",
              "      <td>female</td>\n",
              "      <td>19.0</td>\n",
              "      <td>0</td>\n",
              "      <td>0</td>\n",
              "      <td>112053</td>\n",
              "      <td>30.00</td>\n",
              "      <td>B42</td>\n",
              "      <td>S</td>\n",
              "    </tr>\n",
              "    <tr>\n",
              "      <th>888</th>\n",
              "      <td>889</td>\n",
              "      <td>0</td>\n",
              "      <td>3</td>\n",
              "      <td>Johnston, Miss. Catherine Helen \"Carrie\"</td>\n",
              "      <td>female</td>\n",
              "      <td>NaN</td>\n",
              "      <td>1</td>\n",
              "      <td>2</td>\n",
              "      <td>W./C. 6607</td>\n",
              "      <td>23.45</td>\n",
              "      <td>NaN</td>\n",
              "      <td>S</td>\n",
              "    </tr>\n",
              "    <tr>\n",
              "      <th>889</th>\n",
              "      <td>890</td>\n",
              "      <td>1</td>\n",
              "      <td>1</td>\n",
              "      <td>Behr, Mr. Karl Howell</td>\n",
              "      <td>male</td>\n",
              "      <td>26.0</td>\n",
              "      <td>0</td>\n",
              "      <td>0</td>\n",
              "      <td>111369</td>\n",
              "      <td>30.00</td>\n",
              "      <td>C148</td>\n",
              "      <td>C</td>\n",
              "    </tr>\n",
              "    <tr>\n",
              "      <th>890</th>\n",
              "      <td>891</td>\n",
              "      <td>0</td>\n",
              "      <td>3</td>\n",
              "      <td>Dooley, Mr. Patrick</td>\n",
              "      <td>male</td>\n",
              "      <td>32.0</td>\n",
              "      <td>0</td>\n",
              "      <td>0</td>\n",
              "      <td>370376</td>\n",
              "      <td>7.75</td>\n",
              "      <td>NaN</td>\n",
              "      <td>Q</td>\n",
              "    </tr>\n",
              "  </tbody>\n",
              "</table>\n",
              "</div>"
            ],
            "text/plain": [
              "     PassengerId  Survived  Pclass  ...   Fare Cabin  Embarked\n",
              "886          887         0       2  ...  13.00   NaN         S\n",
              "887          888         1       1  ...  30.00   B42         S\n",
              "888          889         0       3  ...  23.45   NaN         S\n",
              "889          890         1       1  ...  30.00  C148         C\n",
              "890          891         0       3  ...   7.75   NaN         Q\n",
              "\n",
              "[5 rows x 12 columns]"
            ]
          },
          "metadata": {},
          "execution_count": 13
        }
      ]
    },
    {
      "cell_type": "code",
      "metadata": {
        "id": "Now4SvbPhzmh",
        "colab": {
          "base_uri": "https://localhost:8080/"
        },
        "outputId": "c477c821-d268-4cee-d70c-701634702e1a"
      },
      "source": [
        "# printing the the number of unique values of the columns\n",
        "print(df.nunique())"
      ],
      "execution_count": null,
      "outputs": [
        {
          "output_type": "stream",
          "name": "stdout",
          "text": [
            "PassengerId    891\n",
            "Survived         2\n",
            "Pclass           3\n",
            "Name           891\n",
            "Sex              2\n",
            "Age             88\n",
            "SibSp            7\n",
            "Parch            7\n",
            "Ticket         681\n",
            "Fare           248\n",
            "Cabin          147\n",
            "Embarked         3\n",
            "dtype: int64\n"
          ]
        }
      ]
    },
    {
      "cell_type": "code",
      "metadata": {
        "id": "-KRbNRDuZ2MO",
        "colab": {
          "base_uri": "https://localhost:8080/"
        },
        "outputId": "f3a15977-3cc2-42ee-87e7-b9d7f077a499"
      },
      "source": [
        "# previewing the columns of the datasets\n",
        "df.columns"
      ],
      "execution_count": null,
      "outputs": [
        {
          "output_type": "execute_result",
          "data": {
            "text/plain": [
              "Index(['PassengerId', 'Survived', 'Pclass', 'Name', 'Sex', 'Age', 'SibSp',\n",
              "       'Parch', 'Ticket', 'Fare', 'Cabin', 'Embarked'],\n",
              "      dtype='object')"
            ]
          },
          "metadata": {},
          "execution_count": 15
        }
      ]
    },
    {
      "cell_type": "code",
      "metadata": {
        "id": "5PsRplPAIC2R",
        "colab": {
          "base_uri": "https://localhost:8080/",
          "height": 202
        },
        "outputId": "791f72ed-2bc1-4c94-ff8f-85570eea3282"
      },
      "source": [
        "# previewing a sample of the dataset\n",
        "df.sample(5)"
      ],
      "execution_count": null,
      "outputs": [
        {
          "output_type": "execute_result",
          "data": {
            "text/html": [
              "<div>\n",
              "<style scoped>\n",
              "    .dataframe tbody tr th:only-of-type {\n",
              "        vertical-align: middle;\n",
              "    }\n",
              "\n",
              "    .dataframe tbody tr th {\n",
              "        vertical-align: top;\n",
              "    }\n",
              "\n",
              "    .dataframe thead th {\n",
              "        text-align: right;\n",
              "    }\n",
              "</style>\n",
              "<table border=\"1\" class=\"dataframe\">\n",
              "  <thead>\n",
              "    <tr style=\"text-align: right;\">\n",
              "      <th></th>\n",
              "      <th>PassengerId</th>\n",
              "      <th>Survived</th>\n",
              "      <th>Pclass</th>\n",
              "      <th>Name</th>\n",
              "      <th>Sex</th>\n",
              "      <th>Age</th>\n",
              "      <th>SibSp</th>\n",
              "      <th>Parch</th>\n",
              "      <th>Ticket</th>\n",
              "      <th>Fare</th>\n",
              "      <th>Cabin</th>\n",
              "      <th>Embarked</th>\n",
              "    </tr>\n",
              "  </thead>\n",
              "  <tbody>\n",
              "    <tr>\n",
              "      <th>393</th>\n",
              "      <td>394</td>\n",
              "      <td>1</td>\n",
              "      <td>1</td>\n",
              "      <td>Newell, Miss. Marjorie</td>\n",
              "      <td>female</td>\n",
              "      <td>23.0</td>\n",
              "      <td>1</td>\n",
              "      <td>0</td>\n",
              "      <td>35273</td>\n",
              "      <td>113.2750</td>\n",
              "      <td>D36</td>\n",
              "      <td>C</td>\n",
              "    </tr>\n",
              "    <tr>\n",
              "      <th>340</th>\n",
              "      <td>341</td>\n",
              "      <td>1</td>\n",
              "      <td>2</td>\n",
              "      <td>Navratil, Master. Edmond Roger</td>\n",
              "      <td>male</td>\n",
              "      <td>2.0</td>\n",
              "      <td>1</td>\n",
              "      <td>1</td>\n",
              "      <td>230080</td>\n",
              "      <td>26.0000</td>\n",
              "      <td>F2</td>\n",
              "      <td>S</td>\n",
              "    </tr>\n",
              "    <tr>\n",
              "      <th>311</th>\n",
              "      <td>312</td>\n",
              "      <td>1</td>\n",
              "      <td>1</td>\n",
              "      <td>Ryerson, Miss. Emily Borie</td>\n",
              "      <td>female</td>\n",
              "      <td>18.0</td>\n",
              "      <td>2</td>\n",
              "      <td>2</td>\n",
              "      <td>PC 17608</td>\n",
              "      <td>262.3750</td>\n",
              "      <td>B57 B59 B63 B66</td>\n",
              "      <td>C</td>\n",
              "    </tr>\n",
              "    <tr>\n",
              "      <th>762</th>\n",
              "      <td>763</td>\n",
              "      <td>1</td>\n",
              "      <td>3</td>\n",
              "      <td>Barah, Mr. Hanna Assi</td>\n",
              "      <td>male</td>\n",
              "      <td>20.0</td>\n",
              "      <td>0</td>\n",
              "      <td>0</td>\n",
              "      <td>2663</td>\n",
              "      <td>7.2292</td>\n",
              "      <td>NaN</td>\n",
              "      <td>C</td>\n",
              "    </tr>\n",
              "    <tr>\n",
              "      <th>19</th>\n",
              "      <td>20</td>\n",
              "      <td>1</td>\n",
              "      <td>3</td>\n",
              "      <td>Masselmani, Mrs. Fatima</td>\n",
              "      <td>female</td>\n",
              "      <td>NaN</td>\n",
              "      <td>0</td>\n",
              "      <td>0</td>\n",
              "      <td>2649</td>\n",
              "      <td>7.2250</td>\n",
              "      <td>NaN</td>\n",
              "      <td>C</td>\n",
              "    </tr>\n",
              "  </tbody>\n",
              "</table>\n",
              "</div>"
            ],
            "text/plain": [
              "     PassengerId  Survived  Pclass  ...      Fare            Cabin  Embarked\n",
              "393          394         1       1  ...  113.2750              D36         C\n",
              "340          341         1       2  ...   26.0000               F2         S\n",
              "311          312         1       1  ...  262.3750  B57 B59 B63 B66         C\n",
              "762          763         1       3  ...    7.2292              NaN         C\n",
              "19            20         1       3  ...    7.2250              NaN         C\n",
              "\n",
              "[5 rows x 12 columns]"
            ]
          },
          "metadata": {},
          "execution_count": 18
        }
      ]
    },
    {
      "cell_type": "code",
      "metadata": {
        "id": "VsAy7EFJqONi",
        "colab": {
          "base_uri": "https://localhost:8080/"
        },
        "outputId": "3d7b408e-f2a3-42a5-bb8d-0ae44dc1d507"
      },
      "source": [
        "# view summary of dataset\n",
        "df.info()"
      ],
      "execution_count": null,
      "outputs": [
        {
          "output_type": "stream",
          "text": [
            "<class 'pandas.core.frame.DataFrame'>\n",
            "RangeIndex: 891 entries, 0 to 890\n",
            "Data columns (total 12 columns):\n",
            " #   Column       Non-Null Count  Dtype  \n",
            "---  ------       --------------  -----  \n",
            " 0   PassengerId  891 non-null    int64  \n",
            " 1   Survived     891 non-null    int64  \n",
            " 2   Pclass       891 non-null    int64  \n",
            " 3   Name         891 non-null    object \n",
            " 4   Sex          891 non-null    object \n",
            " 5   Age          714 non-null    float64\n",
            " 6   SibSp        891 non-null    int64  \n",
            " 7   Parch        891 non-null    int64  \n",
            " 8   Ticket       891 non-null    object \n",
            " 9   Fare         891 non-null    float64\n",
            " 10  Cabin        204 non-null    object \n",
            " 11  Embarked     889 non-null    object \n",
            "dtypes: float64(2), int64(5), object(5)\n",
            "memory usage: 83.7+ KB\n"
          ],
          "name": "stdout"
        }
      ]
    },
    {
      "cell_type": "markdown",
      "metadata": {
        "id": "TgnXOwbybVk0"
      },
      "source": [
        "### **Data Cleaning**"
      ]
    },
    {
      "cell_type": "code",
      "metadata": {
        "id": "yrnRzRUNQ_H5"
      },
      "source": [
        "# dropping redundant columns from dataset\n",
        "df = df.drop(['PassengerId'], axis=1)\n",
        "\n",
        "# this is because it is not essential for the modelling process"
      ],
      "execution_count": null,
      "outputs": []
    },
    {
      "cell_type": "code",
      "metadata": {
        "id": "r1t5fMIBaC2G",
        "colab": {
          "base_uri": "https://localhost:8080/"
        },
        "outputId": "a1aa7a2d-3e37-4a3e-f657-7b4899c2231d"
      },
      "source": [
        "# checking count of null values\n",
        "df.isnull().sum()\n",
        "\n",
        "# there are null values in the age, cabin and embarked column"
      ],
      "execution_count": null,
      "outputs": [
        {
          "output_type": "execute_result",
          "data": {
            "text/plain": [
              "Survived      0\n",
              "Pclass        0\n",
              "Name          0\n",
              "Sex           0\n",
              "Age         177\n",
              "SibSp         0\n",
              "Parch         0\n",
              "Ticket        0\n",
              "Fare          0\n",
              "Cabin       687\n",
              "Embarked      2\n",
              "dtype: int64"
            ]
          },
          "metadata": {},
          "execution_count": 20
        }
      ]
    },
    {
      "cell_type": "code",
      "metadata": {
        "id": "wrY_ygXAL3Gs"
      },
      "source": [
        "# replacing the null values in the dataset by 0\n",
        "df1 = df.fillna(0)"
      ],
      "execution_count": null,
      "outputs": []
    },
    {
      "cell_type": "code",
      "metadata": {
        "id": "7dosDdJ2L9Er",
        "colab": {
          "base_uri": "https://localhost:8080/"
        },
        "outputId": "9563a439-cb25-428a-be1d-baf8619ae8c6"
      },
      "source": [
        "# checking count of null values\n",
        "df1.isnull().sum()"
      ],
      "execution_count": null,
      "outputs": [
        {
          "output_type": "execute_result",
          "data": {
            "text/plain": [
              "Survived    0\n",
              "Pclass      0\n",
              "Name        0\n",
              "Sex         0\n",
              "Age         0\n",
              "SibSp       0\n",
              "Parch       0\n",
              "Ticket      0\n",
              "Fare        0\n",
              "Cabin       0\n",
              "Embarked    0\n",
              "dtype: int64"
            ]
          },
          "metadata": {},
          "execution_count": 24
        }
      ]
    },
    {
      "cell_type": "code",
      "metadata": {
        "id": "ayk88SdeZgiq",
        "colab": {
          "base_uri": "https://localhost:8080/"
        },
        "outputId": "663fcfac-4939-43bc-db6b-2c9961d82a1d"
      },
      "source": [
        "# checking for duplicates\n",
        "df1.duplicated().any()\n",
        "\n",
        "# there are no duplicates in the dataset"
      ],
      "execution_count": null,
      "outputs": [
        {
          "output_type": "execute_result",
          "data": {
            "text/plain": [
              "False"
            ]
          },
          "metadata": {},
          "execution_count": 25
        }
      ]
    },
    {
      "cell_type": "code",
      "metadata": {
        "id": "EX729vCBaSlI",
        "colab": {
          "base_uri": "https://localhost:8080/"
        },
        "outputId": "3cae68cb-9526-4c0d-d89a-e2760318f8b6"
      },
      "source": [
        "# checking count of duplicate entries\n",
        "df1.duplicated().sum()"
      ],
      "execution_count": null,
      "outputs": [
        {
          "output_type": "execute_result",
          "data": {
            "text/plain": [
              "0"
            ]
          },
          "metadata": {},
          "execution_count": 26
        }
      ]
    },
    {
      "cell_type": "code",
      "metadata": {
        "id": "ZiUoOC1Da-Pm",
        "colab": {
          "base_uri": "https://localhost:8080/"
        },
        "outputId": "dbf768af-677f-42ab-fda9-fc7e4029607a"
      },
      "source": [
        "# previewing the dataset shape\n",
        "df1.shape\n",
        "\n",
        "# the dataset has 891 rows and 11 columns"
      ],
      "execution_count": null,
      "outputs": [
        {
          "output_type": "execute_result",
          "data": {
            "text/plain": [
              "(891, 11)"
            ]
          },
          "metadata": {},
          "execution_count": 27
        }
      ]
    },
    {
      "cell_type": "code",
      "metadata": {
        "id": "TFjjfmJxrf1u",
        "colab": {
          "base_uri": "https://localhost:8080/"
        },
        "outputId": "fe467bc4-38e2-4a34-aaf5-19517e366102"
      },
      "source": [
        "# previewing the columns\n",
        "df1.columns"
      ],
      "execution_count": null,
      "outputs": [
        {
          "output_type": "execute_result",
          "data": {
            "text/plain": [
              "Index(['Survived', 'Pclass', 'Name', 'Sex', 'Age', 'SibSp', 'Parch', 'Ticket',\n",
              "       'Fare', 'Cabin', 'Embarked'],\n",
              "      dtype='object')"
            ]
          },
          "metadata": {},
          "execution_count": 28
        }
      ]
    },
    {
      "cell_type": "code",
      "metadata": {
        "id": "rVUI49nEOCCK"
      },
      "source": [
        "# converting variables from float to int \n",
        "df1['Age'] = df1['Age'].astype(int)\n",
        "df1['Fare'] = df1['Fare'].astype(int)"
      ],
      "execution_count": null,
      "outputs": []
    },
    {
      "cell_type": "code",
      "metadata": {
        "id": "OUhVqsXDQt4h",
        "colab": {
          "base_uri": "https://localhost:8080/",
          "height": 294
        },
        "outputId": "98e9e4c7-2a6d-47f7-9ba6-5ead4706face"
      },
      "source": [
        "# describing the numerical features\n",
        "df1.describe()"
      ],
      "execution_count": null,
      "outputs": [
        {
          "output_type": "execute_result",
          "data": {
            "text/html": [
              "<div>\n",
              "<style scoped>\n",
              "    .dataframe tbody tr th:only-of-type {\n",
              "        vertical-align: middle;\n",
              "    }\n",
              "\n",
              "    .dataframe tbody tr th {\n",
              "        vertical-align: top;\n",
              "    }\n",
              "\n",
              "    .dataframe thead th {\n",
              "        text-align: right;\n",
              "    }\n",
              "</style>\n",
              "<table border=\"1\" class=\"dataframe\">\n",
              "  <thead>\n",
              "    <tr style=\"text-align: right;\">\n",
              "      <th></th>\n",
              "      <th>Survived</th>\n",
              "      <th>Pclass</th>\n",
              "      <th>Age</th>\n",
              "      <th>SibSp</th>\n",
              "      <th>Parch</th>\n",
              "      <th>Fare</th>\n",
              "    </tr>\n",
              "  </thead>\n",
              "  <tbody>\n",
              "    <tr>\n",
              "      <th>count</th>\n",
              "      <td>891.000000</td>\n",
              "      <td>891.000000</td>\n",
              "      <td>891.000000</td>\n",
              "      <td>891.000000</td>\n",
              "      <td>891.000000</td>\n",
              "      <td>891.000000</td>\n",
              "    </tr>\n",
              "    <tr>\n",
              "      <th>mean</th>\n",
              "      <td>0.383838</td>\n",
              "      <td>2.308642</td>\n",
              "      <td>23.783389</td>\n",
              "      <td>0.523008</td>\n",
              "      <td>0.381594</td>\n",
              "      <td>31.785634</td>\n",
              "    </tr>\n",
              "    <tr>\n",
              "      <th>std</th>\n",
              "      <td>0.486592</td>\n",
              "      <td>0.836071</td>\n",
              "      <td>17.597344</td>\n",
              "      <td>1.102743</td>\n",
              "      <td>0.806057</td>\n",
              "      <td>49.703730</td>\n",
              "    </tr>\n",
              "    <tr>\n",
              "      <th>min</th>\n",
              "      <td>0.000000</td>\n",
              "      <td>1.000000</td>\n",
              "      <td>0.000000</td>\n",
              "      <td>0.000000</td>\n",
              "      <td>0.000000</td>\n",
              "      <td>0.000000</td>\n",
              "    </tr>\n",
              "    <tr>\n",
              "      <th>25%</th>\n",
              "      <td>0.000000</td>\n",
              "      <td>2.000000</td>\n",
              "      <td>6.000000</td>\n",
              "      <td>0.000000</td>\n",
              "      <td>0.000000</td>\n",
              "      <td>7.000000</td>\n",
              "    </tr>\n",
              "    <tr>\n",
              "      <th>50%</th>\n",
              "      <td>0.000000</td>\n",
              "      <td>3.000000</td>\n",
              "      <td>24.000000</td>\n",
              "      <td>0.000000</td>\n",
              "      <td>0.000000</td>\n",
              "      <td>14.000000</td>\n",
              "    </tr>\n",
              "    <tr>\n",
              "      <th>75%</th>\n",
              "      <td>1.000000</td>\n",
              "      <td>3.000000</td>\n",
              "      <td>35.000000</td>\n",
              "      <td>1.000000</td>\n",
              "      <td>0.000000</td>\n",
              "      <td>31.000000</td>\n",
              "    </tr>\n",
              "    <tr>\n",
              "      <th>max</th>\n",
              "      <td>1.000000</td>\n",
              "      <td>3.000000</td>\n",
              "      <td>80.000000</td>\n",
              "      <td>8.000000</td>\n",
              "      <td>6.000000</td>\n",
              "      <td>512.000000</td>\n",
              "    </tr>\n",
              "  </tbody>\n",
              "</table>\n",
              "</div>"
            ],
            "text/plain": [
              "         Survived      Pclass         Age       SibSp       Parch        Fare\n",
              "count  891.000000  891.000000  891.000000  891.000000  891.000000  891.000000\n",
              "mean     0.383838    2.308642   23.783389    0.523008    0.381594   31.785634\n",
              "std      0.486592    0.836071   17.597344    1.102743    0.806057   49.703730\n",
              "min      0.000000    1.000000    0.000000    0.000000    0.000000    0.000000\n",
              "25%      0.000000    2.000000    6.000000    0.000000    0.000000    7.000000\n",
              "50%      0.000000    3.000000   24.000000    0.000000    0.000000   14.000000\n",
              "75%      1.000000    3.000000   35.000000    1.000000    0.000000   31.000000\n",
              "max      1.000000    3.000000   80.000000    8.000000    6.000000  512.000000"
            ]
          },
          "metadata": {},
          "execution_count": 30
        }
      ]
    },
    {
      "cell_type": "code",
      "metadata": {
        "id": "4m2lw7y1PcqM",
        "colab": {
          "base_uri": "https://localhost:8080/"
        },
        "outputId": "a9d60963-f56e-429f-b121-875ef227dbde"
      },
      "source": [
        "# previewing the datatypes\n",
        "df1.dtypes\n",
        "\n",
        "# five of the columns contain string datatypes while the rest have integers"
      ],
      "execution_count": null,
      "outputs": [
        {
          "output_type": "execute_result",
          "data": {
            "text/plain": [
              "Survived     int64\n",
              "Pclass       int64\n",
              "Name        object\n",
              "Sex         object\n",
              "Age          int64\n",
              "SibSp        int64\n",
              "Parch        int64\n",
              "Ticket      object\n",
              "Fare         int64\n",
              "Cabin       object\n",
              "Embarked    object\n",
              "dtype: object"
            ]
          },
          "metadata": {},
          "execution_count": 31
        }
      ]
    },
    {
      "cell_type": "code",
      "metadata": {
        "id": "IsqE00SxfUQ2",
        "colab": {
          "base_uri": "https://localhost:8080/"
        },
        "outputId": "1e9e0622-eae3-48c4-d3a0-ad5a53c8dbaa"
      },
      "source": [
        "# checking for anomalies\n",
        "\n",
        "q11 = df1['Age'].quantile(.25)\n",
        "q31 = df1['Age'].quantile(.75)\n",
        "\n",
        "iqr11 = q31 - q11\n",
        "iqr11\n",
        "##\n",
        "q11, q31 = np.percentile(df1['Age'], [25, 75]) \n",
        "\n",
        "iqr = q31 - q11\n",
        "\n",
        "l_bound = q11 - (1.5*iqr)\n",
        "u_bound = q31 + (1.5 * iqr)\n",
        "\n",
        "print(iqr11, iqr)\n",
        "\n",
        "#\n",
        "# there are no anomalies in the data"
      ],
      "execution_count": null,
      "outputs": [
        {
          "output_type": "stream",
          "name": "stdout",
          "text": [
            "29.0 29.0\n"
          ]
        }
      ]
    },
    {
      "cell_type": "code",
      "metadata": {
        "id": "OrTAc8jjRSxL",
        "colab": {
          "base_uri": "https://localhost:8080/"
        },
        "outputId": "d0890eec-2ca8-4cc4-950b-407c9e94c5a3"
      },
      "source": [
        "# previewing the columns\n",
        "df1.dtypes"
      ],
      "execution_count": null,
      "outputs": [
        {
          "output_type": "execute_result",
          "data": {
            "text/plain": [
              "Survived     int64\n",
              "Pclass       int64\n",
              "Name        object\n",
              "Sex         object\n",
              "Age          int64\n",
              "SibSp        int64\n",
              "Parch        int64\n",
              "Ticket      object\n",
              "Fare         int64\n",
              "Cabin       object\n",
              "Embarked    object\n",
              "dtype: object"
            ]
          },
          "metadata": {},
          "execution_count": 33
        }
      ]
    },
    {
      "cell_type": "code",
      "metadata": {
        "id": "4Pa5h1nkbicy",
        "colab": {
          "base_uri": "https://localhost:8080/",
          "height": 682
        },
        "outputId": "ff49bbee-47d6-46ae-a740-1492ec315742"
      },
      "source": [
        "# checking for outliers\n",
        "# saving the column names onto a dictionary\n",
        "columns_dict = {'Fare': 1, 'Survived': 2, 'Pclass': 3, 'Age': 4, 'SibSp': 5, 'Parch': 6}\n",
        "\n",
        "plt.figure(figsize=(20,30))\n",
        "\n",
        "# make a boxplot for each numerical column\n",
        "for variable,i in columns_dict.items():\n",
        "  plt.subplot(5,4,i)\n",
        "  plt.boxplot(df1[variable])\n",
        "  plt.title(variable)\n",
        "\n",
        "plt.show()\n",
        "\n",
        "# the dataset clearly has outliers as shown below"
      ],
      "execution_count": null,
      "outputs": [
        {
          "output_type": "display_data",
          "data": {
            "image/png": "[encoded data removed]",
            "text/plain": [
              "<Figure size 1440x2160 with 6 Axes>"
            ]
          },
          "metadata": {
            "needs_background": "light"
          }
        }
      ]
    },
    {
      "cell_type": "code",
      "metadata": {
        "id": "5_hXZ3BEqsQ2",
        "colab": {
          "base_uri": "https://localhost:8080/"
        },
        "outputId": "182e46d5-6dfb-4c0a-e195-deeb5a594749"
      },
      "source": [
        "# view summary statistics in numerical variables\n",
        "# Outliers in numerical variables\n",
        "print(round(df.describe(),2))"
      ],
      "execution_count": null,
      "outputs": [
        {
          "output_type": "stream",
          "name": "stdout",
          "text": [
            "       Survived  Pclass     Age   SibSp   Parch    Fare\n",
            "count    891.00  891.00  714.00  891.00  891.00  891.00\n",
            "mean       0.38    2.31   29.70    0.52    0.38   32.20\n",
            "std        0.49    0.84   14.53    1.10    0.81   49.69\n",
            "min        0.00    1.00    0.42    0.00    0.00    0.00\n",
            "25%        0.00    2.00   20.12    0.00    0.00    7.91\n",
            "50%        0.00    3.00   28.00    0.00    0.00   14.45\n",
            "75%        1.00    3.00   38.00    1.00    0.00   31.00\n",
            "max        1.00    3.00   80.00    8.00    6.00  512.33\n"
          ]
        }
      ]
    },
    {
      "cell_type": "code",
      "metadata": {
        "id": "rCfJQQixbsYY",
        "colab": {
          "base_uri": "https://localhost:8080/"
        },
        "outputId": "c0ad514a-776d-4a1b-e0cd-a119163000fc"
      },
      "source": [
        "# dealing with the outliers using quantiles\n",
        "Q1 = df1.quantile(0.25)\n",
        "Q3 = df1.quantile(0.75)\n",
        "IQR = Q3 - Q1\n",
        "\n",
        "# Removing outliers based on the IQR range \n",
        "df2 = df1[~((df1 < (Q1 - 1.5 * IQR)) | (df1 > (Q3 + 1.5 * IQR))).any(axis=1)]\n",
        "\n",
        "# Printing the shape of our new dataset\n",
        "print(df2.shape)\n",
        "\n",
        "# Printing the shape of our old dataset\n",
        "print(df1.shape)\n",
        "\n",
        "\n",
        "#\n",
        "# after the removal of the outliers, our new dataset had 608 rows and 11 columns"
      ],
      "execution_count": null,
      "outputs": [
        {
          "output_type": "stream",
          "name": "stdout",
          "text": [
            "(608, 11)\n",
            "(891, 11)\n"
          ]
        }
      ]
    },
    {
      "cell_type": "markdown",
      "metadata": {
        "id": "rOpN6rL2WOYG"
      },
      "source": [
        "# **EXPLORATORY DATA ANALYSIS**"
      ]
    },
    {
      "cell_type": "markdown",
      "metadata": {
        "id": "HGR6EmNRWZcP"
      },
      "source": [
        "## **a) Univariate Analysis**"
      ]
    },
    {
      "cell_type": "code",
      "metadata": {
        "id": "83MhYytcqXP-",
        "colab": {
          "base_uri": "https://localhost:8080/"
        },
        "outputId": "70c087c6-025c-4089-9d22-3af9b63ce96d"
      },
      "source": [
        "# Frequency distribution of values in variables\n",
        "for var in df2.columns:\n",
        "    \n",
        "    print(df[var].value_counts())\n",
        "\n",
        "# displays the summary frequencies of the dataset (df2)"
      ],
      "execution_count": null,
      "outputs": [
        {
          "output_type": "stream",
          "name": "stdout",
          "text": [
            "0    549\n",
            "1    342\n",
            "Name: Survived, dtype: int64\n",
            "3    491\n",
            "1    216\n",
            "2    184\n",
            "Name: Pclass, dtype: int64\n",
            "Lindblom, Miss. Augusta Charlotta                      1\n",
            "Mitchell, Mr. Henry Michael                            1\n",
            "Louch, Mrs. Charles Alexander (Alice Adelaide Slow)    1\n",
            "Shorney, Mr. Charles Joseph                            1\n",
            "Stoytcheff, Mr. Ilia                                   1\n",
            "                                                      ..\n",
            "Saad, Mr. Amin                                         1\n",
            "Sjostedt, Mr. Ernst Adolf                              1\n",
            "Sinkkonen, Miss. Anna                                  1\n",
            "Abbott, Mr. Rossmore Edward                            1\n",
            "Renouf, Mr. Peter Henry                                1\n",
            "Name: Name, Length: 891, dtype: int64\n",
            "male      577\n",
            "female    314\n",
            "Name: Sex, dtype: int64\n",
            "24.00    30\n",
            "22.00    27\n",
            "18.00    26\n",
            "19.00    25\n",
            "30.00    25\n",
            "         ..\n",
            "55.50     1\n",
            "70.50     1\n",
            "66.00     1\n",
            "23.50     1\n",
            "0.42      1\n",
            "Name: Age, Length: 88, dtype: int64\n",
            "0    608\n",
            "1    209\n",
            "2     28\n",
            "4     18\n",
            "3     16\n",
            "8      7\n",
            "5      5\n",
            "Name: SibSp, dtype: int64\n",
            "0    678\n",
            "1    118\n",
            "2     80\n",
            "5      5\n",
            "3      5\n",
            "4      4\n",
            "6      1\n",
            "Name: Parch, dtype: int64\n",
            "CA. 2343    7\n",
            "1601        7\n",
            "347082      7\n",
            "3101295     6\n",
            "CA 2144     6\n",
            "           ..\n",
            "113509      1\n",
            "211536      1\n",
            "323951      1\n",
            "28228       1\n",
            "3101277     1\n",
            "Name: Ticket, Length: 681, dtype: int64\n",
            "8.0500     43\n",
            "13.0000    42\n",
            "7.8958     38\n",
            "7.7500     34\n",
            "26.0000    31\n",
            "           ..\n",
            "8.4583      1\n",
            "9.8375      1\n",
            "8.3625      1\n",
            "14.1083     1\n",
            "17.4000     1\n",
            "Name: Fare, Length: 248, dtype: int64\n",
            "C23 C25 C27    4\n",
            "B96 B98        4\n",
            "G6             4\n",
            "D              3\n",
            "F33            3\n",
            "              ..\n",
            "E58            1\n",
            "C85            1\n",
            "A5             1\n",
            "D9             1\n",
            "T              1\n",
            "Name: Cabin, Length: 147, dtype: int64\n",
            "S    644\n",
            "C    168\n",
            "Q     77\n",
            "Name: Embarked, dtype: int64\n"
          ]
        }
      ]
    },
    {
      "cell_type": "code",
      "metadata": {
        "id": "dFKKyI1Qq6jD",
        "colab": {
          "base_uri": "https://localhost:8080/",
          "height": 685
        },
        "outputId": "fb3402a7-26a8-4a0a-b3f6-acc9461fdcda"
      },
      "source": [
        "# plot histograms of the variables\n",
        "plt.rcParams['figure.figsize']=(30,25)\n",
        "df2.plot(kind='hist', bins=10, subplots=True, layout=(5,2), sharex=False, sharey=False)\n",
        "plt.show()"
      ],
      "execution_count": null,
      "outputs": [
        {
          "output_type": "display_data",
          "data": {
            "image/png": "[encoded data removed]",
            "text/plain": [
              "<Figure size 2160x1800 with 10 Axes>"
            ]
          },
          "metadata": {
            "needs_background": "light"
          }
        }
      ]
    },
    {
      "cell_type": "code",
      "metadata": {
        "id": "9tgPl2UEWYs_",
        "colab": {
          "base_uri": "https://localhost:8080/",
          "height": 695
        },
        "outputId": "5fbc61f0-3b65-4323-f92c-bfae1dc86e17"
      },
      "source": [
        "# Ploting the univariate summaries and recording our observations\n",
        "# plot histograms for all numeric columns\n",
        "# we use the dictionary we had earlier on saved\n",
        "plt.figure(figsize = (20,30))\n",
        "for variable,i in columns_dict.items():\n",
        "  \n",
        "  plt.subplot(5,4,i)\n",
        "  sns.distplot(df2[variable])\n",
        "  plt.title(variable)\n",
        "\n",
        "plt.show()\n",
        "\n",
        "# this shows the relationship between the variables"
      ],
      "execution_count": null,
      "outputs": [
        {
          "output_type": "display_data",
          "data": {
            "image/png": "[encoded data removed]",
            "text/plain": [
              "<Figure size 1440x2160 with 6 Axes>"
            ]
          },
          "metadata": {
            "needs_background": "light"
          }
        }
      ]
    },
    {
      "cell_type": "code",
      "metadata": {
        "id": "0lmPzC2XcG1q",
        "colab": {
          "base_uri": "https://localhost:8080/",
          "height": 294
        },
        "outputId": "1a3c4c34-9c71-45a0-9bdf-9415c8c34dab"
      },
      "source": [
        "# describing the statistical features of the data\n",
        "df2.describe()\n",
        "\n",
        "# this way it is easier to understand the dataset and identify whether or \n",
        "# not there are outliers in the dataset"
      ],
      "execution_count": null,
      "outputs": [
        {
          "output_type": "execute_result",
          "data": {
            "text/html": [
              "<div>\n",
              "<style scoped>\n",
              "    .dataframe tbody tr th:only-of-type {\n",
              "        vertical-align: middle;\n",
              "    }\n",
              "\n",
              "    .dataframe tbody tr th {\n",
              "        vertical-align: top;\n",
              "    }\n",
              "\n",
              "    .dataframe thead th {\n",
              "        text-align: right;\n",
              "    }\n",
              "</style>\n",
              "<table border=\"1\" class=\"dataframe\">\n",
              "  <thead>\n",
              "    <tr style=\"text-align: right;\">\n",
              "      <th></th>\n",
              "      <th>Survived</th>\n",
              "      <th>Pclass</th>\n",
              "      <th>Age</th>\n",
              "      <th>SibSp</th>\n",
              "      <th>Parch</th>\n",
              "      <th>Fare</th>\n",
              "    </tr>\n",
              "  </thead>\n",
              "  <tbody>\n",
              "    <tr>\n",
              "      <th>count</th>\n",
              "      <td>608.000000</td>\n",
              "      <td>608.000000</td>\n",
              "      <td>608.000000</td>\n",
              "      <td>608.000000</td>\n",
              "      <td>608.0</td>\n",
              "      <td>608.000000</td>\n",
              "    </tr>\n",
              "    <tr>\n",
              "      <th>mean</th>\n",
              "      <td>0.294408</td>\n",
              "      <td>2.460526</td>\n",
              "      <td>23.962171</td>\n",
              "      <td>0.192434</td>\n",
              "      <td>0.0</td>\n",
              "      <td>14.945724</td>\n",
              "    </tr>\n",
              "    <tr>\n",
              "      <th>std</th>\n",
              "      <td>0.456151</td>\n",
              "      <td>0.760487</td>\n",
              "      <td>17.398997</td>\n",
              "      <td>0.438067</td>\n",
              "      <td>0.0</td>\n",
              "      <td>12.978325</td>\n",
              "    </tr>\n",
              "    <tr>\n",
              "      <th>min</th>\n",
              "      <td>0.000000</td>\n",
              "      <td>1.000000</td>\n",
              "      <td>0.000000</td>\n",
              "      <td>0.000000</td>\n",
              "      <td>0.0</td>\n",
              "      <td>0.000000</td>\n",
              "    </tr>\n",
              "    <tr>\n",
              "      <th>25%</th>\n",
              "      <td>0.000000</td>\n",
              "      <td>2.000000</td>\n",
              "      <td>12.750000</td>\n",
              "      <td>0.000000</td>\n",
              "      <td>0.0</td>\n",
              "      <td>7.000000</td>\n",
              "    </tr>\n",
              "    <tr>\n",
              "      <th>50%</th>\n",
              "      <td>0.000000</td>\n",
              "      <td>3.000000</td>\n",
              "      <td>25.000000</td>\n",
              "      <td>0.000000</td>\n",
              "      <td>0.0</td>\n",
              "      <td>8.500000</td>\n",
              "    </tr>\n",
              "    <tr>\n",
              "      <th>75%</th>\n",
              "      <td>1.000000</td>\n",
              "      <td>3.000000</td>\n",
              "      <td>34.000000</td>\n",
              "      <td>0.000000</td>\n",
              "      <td>0.0</td>\n",
              "      <td>17.000000</td>\n",
              "    </tr>\n",
              "    <tr>\n",
              "      <th>max</th>\n",
              "      <td>1.000000</td>\n",
              "      <td>3.000000</td>\n",
              "      <td>74.000000</td>\n",
              "      <td>2.000000</td>\n",
              "      <td>0.0</td>\n",
              "      <td>66.000000</td>\n",
              "    </tr>\n",
              "  </tbody>\n",
              "</table>\n",
              "</div>"
            ],
            "text/plain": [
              "         Survived      Pclass         Age       SibSp  Parch        Fare\n",
              "count  608.000000  608.000000  608.000000  608.000000  608.0  608.000000\n",
              "mean     0.294408    2.460526   23.962171    0.192434    0.0   14.945724\n",
              "std      0.456151    0.760487   17.398997    0.438067    0.0   12.978325\n",
              "min      0.000000    1.000000    0.000000    0.000000    0.0    0.000000\n",
              "25%      0.000000    2.000000   12.750000    0.000000    0.0    7.000000\n",
              "50%      0.000000    3.000000   25.000000    0.000000    0.0    8.500000\n",
              "75%      1.000000    3.000000   34.000000    0.000000    0.0   17.000000\n",
              "max      1.000000    3.000000   74.000000    2.000000    0.0   66.000000"
            ]
          },
          "metadata": {},
          "execution_count": 42
        }
      ]
    },
    {
      "cell_type": "markdown",
      "metadata": {
        "id": "Zba3GzgHWjFt"
      },
      "source": [
        "## **b) Bivariate Analysis**"
      ]
    },
    {
      "cell_type": "code",
      "metadata": {
        "id": "sHMH1sW8cX2C",
        "colab": {
          "base_uri": "https://localhost:8080/",
          "height": 1000
        },
        "outputId": "0867c2c8-c328-499b-a678-5ebdcdcc1548"
      },
      "source": [
        "# Ploting the bivariate summaries and recording our observations\n",
        "# scatterplot\n",
        "sns.pairplot(df2)\n",
        "plt.show()"
      ],
      "execution_count": null,
      "outputs": [
        {
          "output_type": "display_data",
          "data": {
            "image/png": "[encoded data removed]",
            "text/plain": [
              "<Figure size 1080x1080 with 42 Axes>"
            ]
          },
          "metadata": {
            "needs_background": "light"
          }
        }
      ]
    },
    {
      "cell_type": "code",
      "metadata": {
        "id": "EFGvlrxKWmf4",
        "colab": {
          "base_uri": "https://localhost:8080/",
          "height": 945
        },
        "outputId": "d57ab352-8f51-4d2d-cac6-e0b7bbb0bb70"
      },
      "source": [
        "### Categoric Feature Analysis\n",
        "# Boxplot gives a good idea about how the age is distributed across the categories.\n",
        "# Distribution charts show how well each category is populated.\n",
        "c = 0\n",
        "len_c = 3 # (len(df2.columns)-2)\n",
        "fig, axes = plt.subplots(len_c, 2, figsize=(10, 13))     # fig height = 70 -> in figsize(width,height)\n",
        "for i, ax in enumerate(fig.axes):\n",
        "    if (c < len_c) & (i % 2 == 0):\n",
        "        ax.set_xticklabels(ax.xaxis.get_majorticklabels(), rotation=45)\n",
        "        sns.countplot(x=df2.columns[c], alpha=0.7, data=df2, ax=ax)\n",
        "\n",
        "    if (c < len_c) & (i % 2 != 0):\n",
        "        ax.set_xticklabels(ax.xaxis.get_majorticklabels(), rotation=45)\n",
        "        sns.boxplot(data = df2, x=df2.columns[c], y='Age', ax=ax)\n",
        "        c = c + 1\n",
        "fig.tight_layout()"
      ],
      "execution_count": null,
      "outputs": [
        {
          "output_type": "display_data",
          "data": {
            "image/png": "[encoded data removed]",
            "text/plain": [
              "<Figure size 720x936 with 6 Axes>"
            ]
          },
          "metadata": {
            "tags": [],
            "needs_background": "light"
          }
        }
      ]
    },
    {
      "cell_type": "code",
      "metadata": {
        "id": "sZNIdh1cf9S-",
        "colab": {
          "base_uri": "https://localhost:8080/",
          "height": 1000
        },
        "outputId": "31ce1966-c8db-49cf-9ed9-d8370febc2b2"
      },
      "source": [
        "# plotting the correlation using a heatmap\n",
        "sns.heatmap(df2.corr(),annot=True)\n",
        "plt.show()"
      ],
      "execution_count": null,
      "outputs": [
        {
          "output_type": "display_data",
          "data": {
            "image/png": "[encoded data removed]",
            "text/plain": [
              "<Figure size 2160x1800 with 2 Axes>"
            ]
          },
          "metadata": {
            "tags": [],
            "needs_background": "light"
          }
        }
      ]
    },
    {
      "cell_type": "code",
      "metadata": {
        "id": "r9spYPXdccxS",
        "colab": {
          "base_uri": "https://localhost:8080/",
          "height": 235
        },
        "outputId": "ca25f118-74f2-4c4c-8ca0-181fc96be803"
      },
      "source": [
        "# tabulating the correlation coefficients\n",
        "corr = df2.corr()\n",
        "corr"
      ],
      "execution_count": null,
      "outputs": [
        {
          "output_type": "execute_result",
          "data": {
            "text/html": [
              "<div>\n",
              "<style scoped>\n",
              "    .dataframe tbody tr th:only-of-type {\n",
              "        vertical-align: middle;\n",
              "    }\n",
              "\n",
              "    .dataframe tbody tr th {\n",
              "        vertical-align: top;\n",
              "    }\n",
              "\n",
              "    .dataframe thead th {\n",
              "        text-align: right;\n",
              "    }\n",
              "</style>\n",
              "<table border=\"1\" class=\"dataframe\">\n",
              "  <thead>\n",
              "    <tr style=\"text-align: right;\">\n",
              "      <th></th>\n",
              "      <th>Survived</th>\n",
              "      <th>Pclass</th>\n",
              "      <th>Age</th>\n",
              "      <th>SibSp</th>\n",
              "      <th>Parch</th>\n",
              "      <th>Fare</th>\n",
              "    </tr>\n",
              "  </thead>\n",
              "  <tbody>\n",
              "    <tr>\n",
              "      <th>Survived</th>\n",
              "      <td>1.000000</td>\n",
              "      <td>-0.211022</td>\n",
              "      <td>-0.006482</td>\n",
              "      <td>0.103503</td>\n",
              "      <td>NaN</td>\n",
              "      <td>0.247591</td>\n",
              "    </tr>\n",
              "    <tr>\n",
              "      <th>Pclass</th>\n",
              "      <td>-0.211022</td>\n",
              "      <td>1.000000</td>\n",
              "      <td>-0.340952</td>\n",
              "      <td>-0.063701</td>\n",
              "      <td>NaN</td>\n",
              "      <td>-0.689168</td>\n",
              "    </tr>\n",
              "    <tr>\n",
              "      <th>Age</th>\n",
              "      <td>-0.006482</td>\n",
              "      <td>-0.340952</td>\n",
              "      <td>1.000000</td>\n",
              "      <td>0.008089</td>\n",
              "      <td>NaN</td>\n",
              "      <td>0.205884</td>\n",
              "    </tr>\n",
              "    <tr>\n",
              "      <th>SibSp</th>\n",
              "      <td>0.103503</td>\n",
              "      <td>-0.063701</td>\n",
              "      <td>0.008089</td>\n",
              "      <td>1.000000</td>\n",
              "      <td>NaN</td>\n",
              "      <td>0.340870</td>\n",
              "    </tr>\n",
              "    <tr>\n",
              "      <th>Parch</th>\n",
              "      <td>NaN</td>\n",
              "      <td>NaN</td>\n",
              "      <td>NaN</td>\n",
              "      <td>NaN</td>\n",
              "      <td>NaN</td>\n",
              "      <td>NaN</td>\n",
              "    </tr>\n",
              "    <tr>\n",
              "      <th>Fare</th>\n",
              "      <td>0.247591</td>\n",
              "      <td>-0.689168</td>\n",
              "      <td>0.205884</td>\n",
              "      <td>0.340870</td>\n",
              "      <td>NaN</td>\n",
              "      <td>1.000000</td>\n",
              "    </tr>\n",
              "  </tbody>\n",
              "</table>\n",
              "</div>"
            ],
            "text/plain": [
              "          Survived    Pclass       Age     SibSp  Parch      Fare\n",
              "Survived  1.000000 -0.211022 -0.006482  0.103503    NaN  0.247591\n",
              "Pclass   -0.211022  1.000000 -0.340952 -0.063701    NaN -0.689168\n",
              "Age      -0.006482 -0.340952  1.000000  0.008089    NaN  0.205884\n",
              "SibSp     0.103503 -0.063701  0.008089  1.000000    NaN  0.340870\n",
              "Parch          NaN       NaN       NaN       NaN    NaN       NaN\n",
              "Fare      0.247591 -0.689168  0.205884  0.340870    NaN  1.000000"
            ]
          },
          "metadata": {
            "tags": []
          },
          "execution_count": 37
        }
      ]
    },
    {
      "cell_type": "markdown",
      "metadata": {
        "id": "2QeYzRsorHpL"
      },
      "source": [
        "Interpretation\n",
        "The correlation coefficient ranges from -0.6 to +1.\n",
        "\n",
        "if the coefficients are close to +1, then that shows the strong positive correlation between variables. however in this case, there are no cases of strong positive correlation between the variables. instead, they are positive and close to zero, and indication that the correlation is zero or something close to zero.\n",
        "\n",
        "with the correlation coefficients going beyond the zero line to -0.689, it is said that the variables, in this case, fare and pclass are strongly negatively correlated.\n"
      ]
    },
    {
      "cell_type": "markdown",
      "metadata": {
        "id": "vGDWSTWwgOZz"
      },
      "source": [
        "# **IMPLEMENTING THE SOLUTION**"
      ]
    },
    {
      "cell_type": "code",
      "metadata": {
        "id": "Uxu3eGn4vsyX"
      },
      "source": [
        "# the exercise expects us to implement a K-nearest neighbor (kNN) classifier.\n",
        "# it is an experiment that demands the metrics be calcuated carefully and\n",
        "# all observatios noted.\n",
        "# therefore, after splitting the dataset into two parts i.e 80 - 20  sets,\n",
        "# we have to further make conclusions based on second ad third experiments with \n",
        "# different partitionin schemes 70-30, 60-40.\n",
        "# this experiment expects a computation of the accuracy matrix which is the \n",
        "# percentage of correct classification\n",
        "# it is then required that the confusion matric=x be calculated and \n",
        "# optimization done on the models.\n",
        "# the whole process is as below"
      ],
      "execution_count": null,
      "outputs": []
    },
    {
      "cell_type": "markdown",
      "metadata": {
        "id": "T8jsY6PmiZQW"
      },
      "source": [
        "## **PART 1: 80:20 partition**"
      ]
    },
    {
      "cell_type": "code",
      "metadata": {
        "id": "dbZy07GbjHnW"
      },
      "source": [
        "# importing the required libraries\n",
        "from sklearn.model_selection import train_test_split"
      ],
      "execution_count": null,
      "outputs": []
    },
    {
      "cell_type": "code",
      "metadata": {
        "id": "647PwuaW1f7N",
        "colab": {
          "base_uri": "https://localhost:8080/",
          "height": 221
        },
        "outputId": "dfc79333-f3f3-4bc5-dafd-97fe73b512ab"
      },
      "source": [
        "# previewing the dataset before modelling\n",
        "df2.dtypes"
      ],
      "execution_count": null,
      "outputs": [
        {
          "output_type": "execute_result",
          "data": {
            "text/plain": [
              "Survived     int64\n",
              "Pclass       int64\n",
              "Name        object\n",
              "Sex         object\n",
              "Age          int64\n",
              "SibSp        int64\n",
              "Parch        int64\n",
              "Ticket      object\n",
              "Fare         int64\n",
              "Cabin       object\n",
              "Embarked    object\n",
              "dtype: object"
            ]
          },
          "metadata": {
            "tags": []
          },
          "execution_count": 30
        }
      ]
    },
    {
      "cell_type": "code",
      "metadata": {
        "id": "kS57bjge1arG",
        "colab": {
          "base_uri": "https://localhost:8080/",
          "height": 255
        },
        "outputId": "f6fe6d28-f1f1-4d74-b7bb-111658161276"
      },
      "source": [
        "# dropping redundant columns\n",
        "df3 = df2.drop(['Name', 'Ticket', 'Cabin', 'Embarked'], axis=1)\n",
        "df3.info()"
      ],
      "execution_count": null,
      "outputs": [
        {
          "output_type": "stream",
          "text": [
            "<class 'pandas.core.frame.DataFrame'>\n",
            "Int64Index: 608 entries, 0 to 890\n",
            "Data columns (total 7 columns):\n",
            " #   Column    Non-Null Count  Dtype \n",
            "---  ------    --------------  ----- \n",
            " 0   Survived  608 non-null    int64 \n",
            " 1   Pclass    608 non-null    int64 \n",
            " 2   Sex       608 non-null    object\n",
            " 3   Age       608 non-null    int64 \n",
            " 4   SibSp     608 non-null    int64 \n",
            " 5   Parch     608 non-null    int64 \n",
            " 6   Fare      608 non-null    int64 \n",
            "dtypes: int64(6), object(1)\n",
            "memory usage: 38.0+ KB\n"
          ],
          "name": "stdout"
        }
      ]
    },
    {
      "cell_type": "code",
      "metadata": {
        "id": "XfC8gJcN8Izp",
        "colab": {
          "base_uri": "https://localhost:8080/",
          "height": 204
        },
        "outputId": "6c9006a1-239f-4403-e4ed-061bf478a0ea"
      },
      "source": [
        "# previewing the head of the dataset df3\n",
        "df3.head()"
      ],
      "execution_count": null,
      "outputs": [
        {
          "output_type": "execute_result",
          "data": {
            "text/html": [
              "<div>\n",
              "<style scoped>\n",
              "    .dataframe tbody tr th:only-of-type {\n",
              "        vertical-align: middle;\n",
              "    }\n",
              "\n",
              "    .dataframe tbody tr th {\n",
              "        vertical-align: top;\n",
              "    }\n",
              "\n",
              "    .dataframe thead th {\n",
              "        text-align: right;\n",
              "    }\n",
              "</style>\n",
              "<table border=\"1\" class=\"dataframe\">\n",
              "  <thead>\n",
              "    <tr style=\"text-align: right;\">\n",
              "      <th></th>\n",
              "      <th>Survived</th>\n",
              "      <th>Pclass</th>\n",
              "      <th>Sex</th>\n",
              "      <th>Age</th>\n",
              "      <th>SibSp</th>\n",
              "      <th>Parch</th>\n",
              "      <th>Fare</th>\n",
              "    </tr>\n",
              "  </thead>\n",
              "  <tbody>\n",
              "    <tr>\n",
              "      <th>0</th>\n",
              "      <td>0</td>\n",
              "      <td>3</td>\n",
              "      <td>male</td>\n",
              "      <td>22</td>\n",
              "      <td>1</td>\n",
              "      <td>0</td>\n",
              "      <td>7</td>\n",
              "    </tr>\n",
              "    <tr>\n",
              "      <th>2</th>\n",
              "      <td>1</td>\n",
              "      <td>3</td>\n",
              "      <td>female</td>\n",
              "      <td>26</td>\n",
              "      <td>0</td>\n",
              "      <td>0</td>\n",
              "      <td>7</td>\n",
              "    </tr>\n",
              "    <tr>\n",
              "      <th>3</th>\n",
              "      <td>1</td>\n",
              "      <td>1</td>\n",
              "      <td>female</td>\n",
              "      <td>35</td>\n",
              "      <td>1</td>\n",
              "      <td>0</td>\n",
              "      <td>53</td>\n",
              "    </tr>\n",
              "    <tr>\n",
              "      <th>4</th>\n",
              "      <td>0</td>\n",
              "      <td>3</td>\n",
              "      <td>male</td>\n",
              "      <td>35</td>\n",
              "      <td>0</td>\n",
              "      <td>0</td>\n",
              "      <td>8</td>\n",
              "    </tr>\n",
              "    <tr>\n",
              "      <th>5</th>\n",
              "      <td>0</td>\n",
              "      <td>3</td>\n",
              "      <td>male</td>\n",
              "      <td>0</td>\n",
              "      <td>0</td>\n",
              "      <td>0</td>\n",
              "      <td>8</td>\n",
              "    </tr>\n",
              "  </tbody>\n",
              "</table>\n",
              "</div>"
            ],
            "text/plain": [
              "   Survived  Pclass     Sex  Age  SibSp  Parch  Fare\n",
              "0         0       3    male   22      1      0     7\n",
              "2         1       3  female   26      0      0     7\n",
              "3         1       1  female   35      1      0    53\n",
              "4         0       3    male   35      0      0     8\n",
              "5         0       3    male    0      0      0     8"
            ]
          },
          "metadata": {
            "tags": []
          },
          "execution_count": 32
        }
      ]
    },
    {
      "cell_type": "code",
      "metadata": {
        "id": "woi5ayQCkU3b"
      },
      "source": [
        "# implementing the solution with the firt partitioning\n",
        "# preprocessing\n",
        "# declaring feature vector and target variables\n",
        "X = df3.drop(['Sex'], axis=1)\n",
        "y = df3['Sex']"
      ],
      "execution_count": null,
      "outputs": []
    },
    {
      "cell_type": "code",
      "metadata": {
        "id": "mxzW9NSJiet1"
      },
      "source": [
        "# splitting the dataset into training and test sets\n",
        "# Train using 80% of the data.\n",
        "from sklearn.model_selection import train_test_split\n",
        "X_train, X_test, y_train, y_test = train_test_split(X, y, test_size=0.20)"
      ],
      "execution_count": null,
      "outputs": []
    },
    {
      "cell_type": "code",
      "metadata": {
        "id": "Q84104gdrh8h",
        "colab": {
          "base_uri": "https://localhost:8080/",
          "height": 85
        },
        "outputId": "ae09d177-f1c7-4ee6-8fcd-4f4f8e315adb"
      },
      "source": [
        "# checking the shapes of the train and test sets\n",
        "print(X_train.shape)\n",
        "print(y_train.shape)\n",
        "print(X_test.shape)\n",
        "print(y_test.shape)"
      ],
      "execution_count": null,
      "outputs": [
        {
          "output_type": "stream",
          "text": [
            "(486, 6)\n",
            "(486,)\n",
            "(122, 6)\n",
            "(122,)\n"
          ],
          "name": "stdout"
        }
      ]
    },
    {
      "cell_type": "code",
      "metadata": {
        "id": "ulnbDSezjst1",
        "colab": {
          "base_uri": "https://localhost:8080/",
          "height": 238
        },
        "outputId": "6ef864af-6d5e-4d21-f445-b8b5aa55c144"
      },
      "source": [
        "# feature scaling \n",
        "# normalization\n",
        "from sklearn.preprocessing import StandardScaler\n",
        "scaler = StandardScaler()\n",
        "scaler.fit(X_train)\n",
        "#\n",
        "X_train = scaler.transform(X_train)\n",
        "X_test = scaler.transform(X_test)\n",
        "# X_train = pd.DataFrame(X_train, columns=[cols])\n",
        "# X_test = pd.DataFrame(X_test, columns=[cols])\n",
        "# X_train.describe()\n",
        "X_train"
      ],
      "execution_count": null,
      "outputs": [
        {
          "output_type": "execute_result",
          "data": {
            "text/plain": [
              "array([[ 1.52602986,  0.72392172, -0.01581512,  1.89088357,  0.        ,\n",
              "         0.00925782],\n",
              "       [-0.65529517,  0.72392172, -0.35243486, -0.42390085,  0.        ,\n",
              "        -0.70115775],\n",
              "       [ 1.52602986, -0.58398146,  0.65742435,  1.89088357,  0.        ,\n",
              "         0.8775435 ],\n",
              "       ...,\n",
              "       [-0.65529517,  0.72392172, -1.36229407, -0.42390085,  0.        ,\n",
              "         3.24559538],\n",
              "       [ 1.52602986, -0.58398146,  0.99404409, -0.42390085,  0.        ,\n",
              "        -0.14861231],\n",
              "       [ 1.52602986,  0.72392172, -0.1280217 , -0.42390085,  0.        ,\n",
              "        -0.62222268]])"
            ]
          },
          "metadata": {
            "tags": []
          },
          "execution_count": 36
        }
      ]
    },
    {
      "cell_type": "code",
      "metadata": {
        "id": "NBks1GM3jxeC",
        "colab": {
          "base_uri": "https://localhost:8080/",
          "height": 68
        },
        "outputId": "7f24ebf0-0402-45ec-a94e-d6b7c7ac2f75"
      },
      "source": [
        "# Fitting K Neighbours Classifier to the training eet\n",
        "# Training and Making Predictions\n",
        "from sklearn.neighbors import KNeighborsClassifier\n",
        "# instantiating the model\n",
        "classifier = KNeighborsClassifier(n_neighbors=5)\n",
        "# fitting the model to the training set\n",
        "classifier.fit(X_train, y_train)"
      ],
      "execution_count": null,
      "outputs": [
        {
          "output_type": "execute_result",
          "data": {
            "text/plain": [
              "KNeighborsClassifier(algorithm='auto', leaf_size=30, metric='minkowski',\n",
              "                     metric_params=None, n_jobs=None, n_neighbors=5, p=2,\n",
              "                     weights='uniform')"
            ]
          },
          "metadata": {
            "tags": []
          },
          "execution_count": 37
        }
      ]
    },
    {
      "cell_type": "code",
      "metadata": {
        "id": "_-TqhSoslUY-",
        "colab": {
          "base_uri": "https://localhost:8080/",
          "height": 289
        },
        "outputId": "b9d6b7e4-363f-4448-9f80-568584ef04ea"
      },
      "source": [
        "# comparing the accuracy of both the train and test sets\n",
        "# Predicting the Test set results\n",
        "y_pred = classifier.predict(X_test)\n",
        "y_pred\n",
        "\n",
        "# displays the predicted values of y"
      ],
      "execution_count": null,
      "outputs": [
        {
          "output_type": "execute_result",
          "data": {
            "text/plain": [
              "array(['male', 'female', 'male', 'female', 'male', 'female', 'male',\n",
              "       'male', 'male', 'male', 'male', 'male', 'male', 'male', 'male',\n",
              "       'male', 'male', 'male', 'male', 'male', 'male', 'male', 'male',\n",
              "       'female', 'male', 'female', 'male', 'male', 'male', 'male',\n",
              "       'female', 'female', 'male', 'male', 'male', 'male', 'male', 'male',\n",
              "       'male', 'male', 'male', 'male', 'male', 'male', 'female', 'male',\n",
              "       'male', 'male', 'male', 'male', 'male', 'male', 'female', 'male',\n",
              "       'male', 'male', 'male', 'male', 'male', 'male', 'male', 'male',\n",
              "       'male', 'male', 'male', 'male', 'male', 'female', 'male', 'male',\n",
              "       'male', 'male', 'male', 'female', 'male', 'female', 'male',\n",
              "       'female', 'male', 'male', 'male', 'male', 'female', 'male', 'male',\n",
              "       'male', 'male', 'male', 'male', 'male', 'female', 'male', 'male',\n",
              "       'male', 'male', 'male', 'male', 'male', 'male', 'female', 'male',\n",
              "       'male', 'male', 'male', 'male', 'male', 'female', 'male', 'female',\n",
              "       'male', 'female', 'female', 'male', 'male', 'male', 'male', 'male',\n",
              "       'male', 'female', 'female', 'male', 'male'], dtype=object)"
            ]
          },
          "metadata": {
            "tags": []
          },
          "execution_count": 38
        }
      ]
    },
    {
      "cell_type": "code",
      "metadata": {
        "id": "IwDr4FWZj7gK",
        "colab": {
          "base_uri": "https://localhost:8080/",
          "height": 221
        },
        "outputId": "12970e32-1713-43e9-9a08-7dc5d55cd8ac"
      },
      "source": [
        "# evaluating the algorithm\n",
        "from sklearn.metrics import classification_report, confusion_matrix\n",
        "# Print the Confusion Matrix with k =5 and slice it into four pieces\n",
        "from sklearn.metrics import confusion_matrix\n",
        "cm = confusion_matrix(y_test, y_pred)\n",
        "\n",
        "print('Confusion matrix\\n\\n', cm)\n",
        "print('\\nTrue Positives(TP) = ', cm[0,0])\n",
        "print('\\nTrue Negatives(TN) = ', cm[1,1])\n",
        "print('\\nFalse Positives(FP) = ', cm[0,1])\n",
        "print('\\nFalse Negatives(FN) = ', cm[1,0])"
      ],
      "execution_count": null,
      "outputs": [
        {
          "output_type": "stream",
          "text": [
            "Confusion matrix\n",
            "\n",
            " [[18 13]\n",
            " [ 4 87]]\n",
            "\n",
            "True Positives(TP) =  18\n",
            "\n",
            "True Negatives(TN) =  87\n",
            "\n",
            "False Positives(FP) =  13\n",
            "\n",
            "False Negatives(FN) =  4\n"
          ],
          "name": "stdout"
        }
      ]
    },
    {
      "cell_type": "markdown",
      "metadata": {
        "id": "cFsoZ3twx8YW"
      },
      "source": [
        "The confusion matrix is used to measure the performance of an machine learning algorithm, usually a supervised learning one. \n",
        "\n",
        "Each row of the confusion matrix represents the instances of an actual class and each column represents the instances of a predicted class.\n",
        "\n",
        "that is evident with the matrix shown above"
      ]
    },
    {
      "cell_type": "markdown",
      "metadata": {
        "id": "9E7E9xM3zT6n"
      },
      "source": [
        "True Positives(TP) =  18\n",
        "\n",
        "True Negatives(TN) =  87\n",
        "\n",
        "False Positives(FP) =  13\n",
        "\n",
        "False Negatives(FN) =  4\n",
        "\n",
        "The confusion matrix shows 18 + 87 = 105 correct predictions and 13 + 4 = 17 incorrect predictions.\n",
        "\n"
      ]
    },
    {
      "cell_type": "code",
      "metadata": {
        "id": "5L3IOxSm63Fm",
        "colab": {
          "base_uri": "https://localhost:8080/",
          "height": 299
        },
        "outputId": "4d8d5888-658a-41b8-95e1-61c7a3960ad1"
      },
      "source": [
        "# visualizing the confusion matrix with seaborn heatmap\n",
        "cm_matrix = pd.DataFrame(data=cm, columns=['Actual Positive:1', 'Actual Negative:0'], \n",
        "                                 index=['Predict Positive:1', 'Predict Negative:0'])\n",
        "\n",
        "sns.heatmap(cm_matrix, annot=True, fmt='d', cmap='YlGnBu')"
      ],
      "execution_count": null,
      "outputs": [
        {
          "output_type": "execute_result",
          "data": {
            "text/plain": [
              "<matplotlib.axes._subplots.AxesSubplot at 0x7f65ca2b1d68>"
            ]
          },
          "metadata": {
            "tags": []
          },
          "execution_count": 42
        },
        {
          "output_type": "display_data",
          "data": {
            "image/png": "[encoded data removed]",
            "text/plain": [
              "<Figure size 432x288 with 2 Axes>"
            ]
          },
          "metadata": {
            "tags": [],
            "needs_background": "light"
          }
        }
      ]
    },
    {
      "cell_type": "code",
      "metadata": {
        "id": "jpwTTpwTtAFx",
        "colab": {
          "base_uri": "https://localhost:8080/",
          "height": 170
        },
        "outputId": "b9a52122-dcc8-4cf3-df8a-8fffad911a3d"
      },
      "source": [
        "# Classification metrices\n",
        "print(classification_report(y_test, y_pred))"
      ],
      "execution_count": null,
      "outputs": [
        {
          "output_type": "stream",
          "text": [
            "              precision    recall  f1-score   support\n",
            "\n",
            "      female       0.82      0.58      0.68        31\n",
            "        male       0.87      0.96      0.91        91\n",
            "\n",
            "    accuracy                           0.86       122\n",
            "   macro avg       0.84      0.77      0.80       122\n",
            "weighted avg       0.86      0.86      0.85       122\n",
            "\n"
          ],
          "name": "stdout"
        }
      ]
    },
    {
      "cell_type": "code",
      "metadata": {
        "id": "YD2Sdr-_7Cn2"
      },
      "source": [
        "# classification accuracies\n",
        "TP = cm[0,0]\n",
        "TN = cm[1,1]\n",
        "FP = cm[0,1]\n",
        "FN = cm[1,0]"
      ],
      "execution_count": null,
      "outputs": []
    },
    {
      "cell_type": "code",
      "metadata": {
        "id": "Xz8Oba6M7MOE",
        "colab": {
          "base_uri": "https://localhost:8080/",
          "height": 34
        },
        "outputId": "ab734691-1d1c-4847-8f46-a84711099b91"
      },
      "source": [
        "# printing the classification accuracy\n",
        "\n",
        "classification_accuracy = (TP + TN) / float(TP + TN + FP + FN)\n",
        "print('Classification accuracy : {0:0.4f}'.format(classification_accuracy))"
      ],
      "execution_count": null,
      "outputs": [
        {
          "output_type": "stream",
          "text": [
            "Classification accuracy : 0.8607\n"
          ],
          "name": "stdout"
        }
      ]
    },
    {
      "cell_type": "code",
      "metadata": {
        "id": "hLdIlqhH7Pgs",
        "colab": {
          "base_uri": "https://localhost:8080/",
          "height": 34
        },
        "outputId": "8d04109d-db2f-4d23-d569-ac03495d1f08"
      },
      "source": [
        "# printing the classification error\n",
        "\n",
        "classification_error = (FP + FN) / float(TP + TN + FP + FN)\n",
        "print('Classification error : {0:0.4f}'.format(classification_error))"
      ],
      "execution_count": null,
      "outputs": [
        {
          "output_type": "stream",
          "text": [
            "Classification error : 0.1393\n"
          ],
          "name": "stdout"
        }
      ]
    },
    {
      "cell_type": "code",
      "metadata": {
        "id": "xHUUFsbP7SHU",
        "colab": {
          "base_uri": "https://localhost:8080/",
          "height": 34
        },
        "outputId": "21543b1e-5d44-4624-cf66-ea64a1d99f49"
      },
      "source": [
        "# printing the precision score\n",
        "\n",
        "precision = TP / float(TP + FP)\n",
        "print('Precision : {0:0.4f}'.format(precision))"
      ],
      "execution_count": null,
      "outputs": [
        {
          "output_type": "stream",
          "text": [
            "Precision : 0.5806\n"
          ],
          "name": "stdout"
        }
      ]
    },
    {
      "cell_type": "code",
      "metadata": {
        "id": "75waX9G87T2z",
        "colab": {
          "base_uri": "https://localhost:8080/",
          "height": 34
        },
        "outputId": "e5e860ab-aa75-491d-8f27-250ab39db8d1"
      },
      "source": [
        "# printing recall\n",
        "\n",
        "recall = TP / float(TP + FN)\n",
        "print('Recall or Sensitivity : {0:0.4f}'.format(recall))"
      ],
      "execution_count": null,
      "outputs": [
        {
          "output_type": "stream",
          "text": [
            "Recall or Sensitivity : 0.8182\n"
          ],
          "name": "stdout"
        }
      ]
    },
    {
      "cell_type": "code",
      "metadata": {
        "id": "KVq-HmZc7Xrq",
        "colab": {
          "base_uri": "https://localhost:8080/",
          "height": 34
        },
        "outputId": "88e1bc00-efdb-4245-a557-eac222a18b32"
      },
      "source": [
        "# true positive rate\n",
        "\n",
        "true_positive_rate = TP / float(TP + FN)\n",
        "print('True Positive Rate : {0:0.4f}'.format(true_positive_rate))"
      ],
      "execution_count": null,
      "outputs": [
        {
          "output_type": "stream",
          "text": [
            "True Positive Rate : 0.8182\n"
          ],
          "name": "stdout"
        }
      ]
    },
    {
      "cell_type": "code",
      "metadata": {
        "id": "WsSYWKcu7WHM",
        "colab": {
          "base_uri": "https://localhost:8080/",
          "height": 34
        },
        "outputId": "2d352ca6-91a3-47b8-ddc3-8239a6e526b4"
      },
      "source": [
        "# specificity\n",
        "\n",
        "specificity = TN / (TN + FP)\n",
        "print('Specificity : {0:0.4f}'.format(specificity))"
      ],
      "execution_count": null,
      "outputs": [
        {
          "output_type": "stream",
          "text": [
            "Specificity : 0.8700\n"
          ],
          "name": "stdout"
        }
      ]
    },
    {
      "cell_type": "code",
      "metadata": {
        "id": "Bmw6kMiH7c1U",
        "colab": {
          "base_uri": "https://localhost:8080/",
          "height": 34
        },
        "outputId": "e2de64cd-5bb2-44c3-9ccc-262c04aa82b6"
      },
      "source": [
        "# false positive rate\n",
        "false_positive_rate = FP / float(FP + TN)\n",
        "print('False Positive Rate : {0:0.4f}'.format(false_positive_rate))"
      ],
      "execution_count": null,
      "outputs": [
        {
          "output_type": "stream",
          "text": [
            "False Positive Rate : 0.1300\n"
          ],
          "name": "stdout"
        }
      ]
    },
    {
      "cell_type": "code",
      "metadata": {
        "id": "7UJtUTyvkodS",
        "colab": {
          "base_uri": "https://localhost:8080/",
          "height": 51
        },
        "outputId": "78b2dd37-3323-4bdc-ff44-e7cd65bc9704"
      },
      "source": [
        "# Checking the accuracy accuracy_score\n",
        "# printing the accuracy of the training set\n",
        "from sklearn.metrics import accuracy_score\n",
        "print('Accuracy' + str(accuracy_score(y_test, y_pred)))\n",
        "print('Model accuracy score: {0:0.4f}'. format(accuracy_score(y_test, y_pred)))\n",
        "## the accuracy of this evaluation is less than 1"
      ],
      "execution_count": null,
      "outputs": [
        {
          "output_type": "stream",
          "text": [
            "Accuracy0.860655737704918\n",
            "Model accuracy score: 0.8607\n"
          ],
          "name": "stdout"
        }
      ]
    },
    {
      "cell_type": "markdown",
      "metadata": {
        "id": "Fxs-A93J8pqr"
      },
      "source": [
        "## **PART 2: 70:30 partition**"
      ]
    },
    {
      "cell_type": "code",
      "metadata": {
        "id": "G6TVMjEB8pqu"
      },
      "source": [
        "# importing the required libraries\n",
        "from sklearn.model_selection import train_test_split"
      ],
      "execution_count": null,
      "outputs": []
    },
    {
      "cell_type": "code",
      "metadata": {
        "id": "qbQmvqws8prV"
      },
      "source": [
        "# implementing the solution with the firt partitioning\n",
        "# preprocessing\n",
        "# declaring feature vector and target variables\n",
        "X = df3.drop(['Sex'], axis=1)\n",
        "y = df3['Sex']"
      ],
      "execution_count": null,
      "outputs": []
    },
    {
      "cell_type": "code",
      "metadata": {
        "id": "O0IQbFG88pri"
      },
      "source": [
        "# splitting the dataset into training and test sets\n",
        "# Train using 70% of the data.\n",
        "from sklearn.model_selection import train_test_split\n",
        "X_train, X_test, y_train, y_test = train_test_split(X, y, test_size=0.30)"
      ],
      "execution_count": null,
      "outputs": []
    },
    {
      "cell_type": "code",
      "metadata": {
        "id": "QPFdg03t8prq",
        "colab": {
          "base_uri": "https://localhost:8080/",
          "height": 85
        },
        "outputId": "ff5ee25b-8ae5-4f46-9ef4-e8d03a5a2771"
      },
      "source": [
        "# checking the shapes of the train and test sets\n",
        "print(X_train.shape)\n",
        "print(y_train.shape)\n",
        "print(X_test.shape)\n",
        "print(y_test.shape)"
      ],
      "execution_count": null,
      "outputs": [
        {
          "output_type": "stream",
          "text": [
            "(425, 6)\n",
            "(425,)\n",
            "(183, 6)\n",
            "(183,)\n"
          ],
          "name": "stdout"
        }
      ]
    },
    {
      "cell_type": "code",
      "metadata": {
        "id": "jZ8IOO9U8prz",
        "colab": {
          "base_uri": "https://localhost:8080/",
          "height": 238
        },
        "outputId": "67144796-19a6-4d86-dec5-4d92e928536d"
      },
      "source": [
        "# feature scaling \n",
        "# normalization\n",
        "from sklearn.preprocessing import StandardScaler\n",
        "scaler = StandardScaler()\n",
        "scaler.fit(X_train)\n",
        "#\n",
        "X_train = scaler.transform(X_train)\n",
        "X_test = scaler.transform(X_test)\n",
        "# X_train = pd.DataFrame(X_train, columns=[cols])\n",
        "# X_test = pd.DataFrame(X_test, columns=[cols])\n",
        "# X_train.describe()\n",
        "X_train"
      ],
      "execution_count": null,
      "outputs": [
        {
          "output_type": "execute_result",
          "data": {
            "text/plain": [
              "array([[-0.6491569 ,  0.71586996,  0.96986574,  3.9090182 ,  0.        ,\n",
              "        -0.06792605],\n",
              "       [-0.6491569 ,  0.71586996, -0.1857074 , -0.46291005,  0.        ,\n",
              "        -0.53606505],\n",
              "       [-0.6491569 ,  0.71586996, -0.35904337, -0.46291005,  0.        ,\n",
              "        -0.53606505],\n",
              "       ...,\n",
              "       [-0.6491569 ,  0.71586996, -0.47460069, -0.46291005,  0.        ,\n",
              "        -0.45804188],\n",
              "       [-0.6491569 ,  0.71586996,  0.10318588,  3.9090182 ,  0.        ,\n",
              "        -0.53606505],\n",
              "       [ 1.54045963, -0.58990142,  0.91208708, -0.46291005,  0.        ,\n",
              "         0.01009712]])"
            ]
          },
          "metadata": {
            "tags": []
          },
          "execution_count": 57
        }
      ]
    },
    {
      "cell_type": "code",
      "metadata": {
        "id": "_w40HT6a8pr3",
        "colab": {
          "base_uri": "https://localhost:8080/",
          "height": 68
        },
        "outputId": "163f8ed2-1a4e-43de-be52-84b8cd506d1a"
      },
      "source": [
        "# Fitting K Neighbours Classifier to the training eet\n",
        "# Training and Making Predictions\n",
        "from sklearn.neighbors import KNeighborsClassifier\n",
        "# instantiating the model\n",
        "classifier = KNeighborsClassifier(n_neighbors=5)\n",
        "# fitting the model to the training set\n",
        "classifier.fit(X_train, y_train)"
      ],
      "execution_count": null,
      "outputs": [
        {
          "output_type": "execute_result",
          "data": {
            "text/plain": [
              "KNeighborsClassifier(algorithm='auto', leaf_size=30, metric='minkowski',\n",
              "                     metric_params=None, n_jobs=None, n_neighbors=5, p=2,\n",
              "                     weights='uniform')"
            ]
          },
          "metadata": {
            "tags": []
          },
          "execution_count": 58
        }
      ]
    },
    {
      "cell_type": "code",
      "metadata": {
        "id": "kvZnK5Jy8pr7",
        "colab": {
          "base_uri": "https://localhost:8080/",
          "height": 425
        },
        "outputId": "86b709da-60f9-4d69-91f8-d5279ea7bbe0"
      },
      "source": [
        "# comparing the accuracy of both the train and test sets\n",
        "# Predicting the Test set results\n",
        "y_pred = classifier.predict(X_test)\n",
        "y_pred\n",
        "\n",
        "# displays the predicted values of y"
      ],
      "execution_count": null,
      "outputs": [
        {
          "output_type": "execute_result",
          "data": {
            "text/plain": [
              "array(['male', 'male', 'male', 'male', 'female', 'male', 'female',\n",
              "       'female', 'male', 'male', 'male', 'male', 'male', 'male', 'male',\n",
              "       'male', 'male', 'male', 'male', 'female', 'male', 'male', 'male',\n",
              "       'male', 'female', 'male', 'female', 'male', 'female', 'male',\n",
              "       'male', 'female', 'male', 'male', 'female', 'male', 'female',\n",
              "       'male', 'female', 'male', 'male', 'male', 'male', 'male', 'female',\n",
              "       'female', 'male', 'male', 'male', 'male', 'male', 'female', 'male',\n",
              "       'male', 'male', 'male', 'male', 'male', 'male', 'female', 'male',\n",
              "       'male', 'female', 'male', 'male', 'male', 'male', 'male', 'male',\n",
              "       'male', 'male', 'male', 'male', 'male', 'female', 'male', 'male',\n",
              "       'male', 'female', 'female', 'male', 'male', 'male', 'female',\n",
              "       'male', 'male', 'female', 'male', 'female', 'female', 'male',\n",
              "       'female', 'male', 'male', 'male', 'male', 'male', 'male', 'male',\n",
              "       'female', 'male', 'female', 'male', 'male', 'female', 'male',\n",
              "       'male', 'male', 'male', 'female', 'male', 'male', 'male', 'male',\n",
              "       'male', 'male', 'male', 'male', 'male', 'male', 'male', 'male',\n",
              "       'female', 'male', 'male', 'male', 'female', 'female', 'male',\n",
              "       'female', 'male', 'male', 'male', 'male', 'male', 'male', 'male',\n",
              "       'male', 'female', 'male', 'male', 'male', 'male', 'male', 'male',\n",
              "       'male', 'female', 'male', 'male', 'male', 'male', 'male', 'male',\n",
              "       'female', 'male', 'male', 'male', 'male', 'male', 'female', 'male',\n",
              "       'male', 'male', 'male', 'male', 'male', 'male', 'female', 'male',\n",
              "       'male', 'male', 'male', 'male', 'female', 'female', 'male', 'male',\n",
              "       'male', 'male', 'male', 'male', 'male', 'male'], dtype=object)"
            ]
          },
          "metadata": {
            "tags": []
          },
          "execution_count": 59
        }
      ]
    },
    {
      "cell_type": "code",
      "metadata": {
        "id": "Ef53jO5I8pr_",
        "colab": {
          "base_uri": "https://localhost:8080/",
          "height": 221
        },
        "outputId": "90e36209-ad3f-4664-a672-1238c1489b22"
      },
      "source": [
        "# evaluating the algorithm\n",
        "from sklearn.metrics import classification_report, confusion_matrix\n",
        "# Print the Confusion Matrix with k =5 and slice it into four pieces\n",
        "from sklearn.metrics import confusion_matrix\n",
        "cm = confusion_matrix(y_test, y_pred)\n",
        "\n",
        "print('Confusion matrix\\n\\n', cm)\n",
        "print('\\nTrue Positives(TP) = ', cm[0,0])\n",
        "print('\\nTrue Negatives(TN) = ', cm[1,1])\n",
        "print('\\nFalse Positives(FP) = ', cm[0,1])\n",
        "print('\\nFalse Negatives(FN) = ', cm[1,0])"
      ],
      "execution_count": null,
      "outputs": [
        {
          "output_type": "stream",
          "text": [
            "Confusion matrix\n",
            "\n",
            " [[ 27  19]\n",
            " [ 12 125]]\n",
            "\n",
            "True Positives(TP) =  27\n",
            "\n",
            "True Negatives(TN) =  125\n",
            "\n",
            "False Positives(FP) =  19\n",
            "\n",
            "False Negatives(FN) =  12\n"
          ],
          "name": "stdout"
        }
      ]
    },
    {
      "cell_type": "markdown",
      "metadata": {
        "id": "We2bHZxs8psD"
      },
      "source": [
        "The confusion matrix is used to measure the performance of an machine learning algorithm, usually a supervised learning one. \n",
        "\n",
        "Each row of the confusion matrix represents the instances of an actual class and each column represents the instances of a predicted class.\n",
        "\n",
        "that is evident with the matrix shown above"
      ]
    },
    {
      "cell_type": "markdown",
      "metadata": {
        "id": "OIlqMmAi8psD"
      },
      "source": [
        "True Positives(TP) =  27\n",
        "\n",
        "True Negatives(TN) =  125\n",
        "\n",
        "False Positives(FP) =  19\n",
        "\n",
        "False Negatives(FN) =  12\n",
        "\n",
        "The confusion matrix shows 27 + 125 = 152 correct predictions and 19 + 12 = 31 incorrect predictions.\n",
        "\n"
      ]
    },
    {
      "cell_type": "code",
      "metadata": {
        "id": "f8toP7SV8psE",
        "colab": {
          "base_uri": "https://localhost:8080/",
          "height": 299
        },
        "outputId": "82549a83-c47f-4374-858f-d6a96bb868bf"
      },
      "source": [
        "# visualizing the confusion matrix with seaborn heatmap\n",
        "cm_matrix = pd.DataFrame(data=cm, columns=['Actual Positive:1', 'Actual Negative:0'], \n",
        "                                 index=['Predict Positive:1', 'Predict Negative:0'])\n",
        "\n",
        "sns.heatmap(cm_matrix, annot=True, fmt='d', cmap='YlGnBu')"
      ],
      "execution_count": null,
      "outputs": [
        {
          "output_type": "execute_result",
          "data": {
            "text/plain": [
              "<matplotlib.axes._subplots.AxesSubplot at 0x7f65c79e1860>"
            ]
          },
          "metadata": {
            "tags": []
          },
          "execution_count": 61
        },
        {
          "output_type": "display_data",
          "data": {
            "image/png": "[encoded data removed]",
            "text/plain": [
              "<Figure size 432x288 with 2 Axes>"
            ]
          },
          "metadata": {
            "tags": [],
            "needs_background": "light"
          }
        }
      ]
    },
    {
      "cell_type": "code",
      "metadata": {
        "id": "6SjvxlUh8psI",
        "colab": {
          "base_uri": "https://localhost:8080/",
          "height": 170
        },
        "outputId": "54840031-a38b-486e-8e42-25c4a4c35543"
      },
      "source": [
        "# Classification metrices\n",
        "print(classification_report(y_test, y_pred))"
      ],
      "execution_count": null,
      "outputs": [
        {
          "output_type": "stream",
          "text": [
            "              precision    recall  f1-score   support\n",
            "\n",
            "      female       0.69      0.59      0.64        46\n",
            "        male       0.87      0.91      0.89       137\n",
            "\n",
            "    accuracy                           0.83       183\n",
            "   macro avg       0.78      0.75      0.76       183\n",
            "weighted avg       0.82      0.83      0.83       183\n",
            "\n"
          ],
          "name": "stdout"
        }
      ]
    },
    {
      "cell_type": "code",
      "metadata": {
        "id": "2Dk0QEnC8psO"
      },
      "source": [
        "# classification accuracies\n",
        "TP = cm[0,0]\n",
        "TN = cm[1,1]\n",
        "FP = cm[0,1]\n",
        "FN = cm[1,0]"
      ],
      "execution_count": null,
      "outputs": []
    },
    {
      "cell_type": "code",
      "metadata": {
        "id": "uWB9JVFi8psR",
        "colab": {
          "base_uri": "https://localhost:8080/",
          "height": 34
        },
        "outputId": "f3e0cc7f-ec21-4d21-df3a-576796469dd9"
      },
      "source": [
        "# printing the classification accuracy\n",
        "\n",
        "classification_accuracy = (TP + TN) / float(TP + TN + FP + FN)\n",
        "print('Classification accuracy : {0:0.4f}'.format(classification_accuracy))"
      ],
      "execution_count": null,
      "outputs": [
        {
          "output_type": "stream",
          "text": [
            "Classification accuracy : 0.8306\n"
          ],
          "name": "stdout"
        }
      ]
    },
    {
      "cell_type": "code",
      "metadata": {
        "id": "4hsdIIRe8psU",
        "colab": {
          "base_uri": "https://localhost:8080/",
          "height": 34
        },
        "outputId": "79e025d8-f508-4946-ef69-6a5076aa2a4c"
      },
      "source": [
        "# printing the classification error\n",
        "\n",
        "classification_error = (FP + FN) / float(TP + TN + FP + FN)\n",
        "print('Classification error : {0:0.4f}'.format(classification_error))"
      ],
      "execution_count": null,
      "outputs": [
        {
          "output_type": "stream",
          "text": [
            "Classification error : 0.1694\n"
          ],
          "name": "stdout"
        }
      ]
    },
    {
      "cell_type": "code",
      "metadata": {
        "id": "Ianvs5_x8psX",
        "colab": {
          "base_uri": "https://localhost:8080/",
          "height": 34
        },
        "outputId": "0078e338-475c-4b6d-ede3-2ed9b7d6e738"
      },
      "source": [
        "# printing the precision score\n",
        "\n",
        "precision = TP / float(TP + FP)\n",
        "print('Precision : {0:0.4f}'.format(precision))"
      ],
      "execution_count": null,
      "outputs": [
        {
          "output_type": "stream",
          "text": [
            "Precision : 0.5870\n"
          ],
          "name": "stdout"
        }
      ]
    },
    {
      "cell_type": "code",
      "metadata": {
        "id": "GDXwzpiy8psa",
        "colab": {
          "base_uri": "https://localhost:8080/",
          "height": 34
        },
        "outputId": "b3999592-7d65-47c1-8144-78f9c053cbb1"
      },
      "source": [
        "# printing recall\n",
        "\n",
        "recall = TP / float(TP + FN)\n",
        "print('Recall or Sensitivity : {0:0.4f}'.format(recall))"
      ],
      "execution_count": null,
      "outputs": [
        {
          "output_type": "stream",
          "text": [
            "Recall or Sensitivity : 0.6923\n"
          ],
          "name": "stdout"
        }
      ]
    },
    {
      "cell_type": "code",
      "metadata": {
        "id": "gYqgkpVx8psc",
        "colab": {
          "base_uri": "https://localhost:8080/",
          "height": 34
        },
        "outputId": "0da3b645-855c-49bf-b9cd-f4f6020f9321"
      },
      "source": [
        "# true positive rate\n",
        "\n",
        "true_positive_rate = TP / float(TP + FN)\n",
        "print('True Positive Rate : {0:0.4f}'.format(true_positive_rate))"
      ],
      "execution_count": null,
      "outputs": [
        {
          "output_type": "stream",
          "text": [
            "True Positive Rate : 0.6923\n"
          ],
          "name": "stdout"
        }
      ]
    },
    {
      "cell_type": "code",
      "metadata": {
        "id": "H4Y6ygCT8psh",
        "colab": {
          "base_uri": "https://localhost:8080/",
          "height": 34
        },
        "outputId": "fe089e9e-5457-478b-a7ff-991dee3e8d9d"
      },
      "source": [
        "# specificity\n",
        "\n",
        "specificity = TN / (TN + FP)\n",
        "print('Specificity : {0:0.4f}'.format(specificity))"
      ],
      "execution_count": null,
      "outputs": [
        {
          "output_type": "stream",
          "text": [
            "Specificity : 0.8681\n"
          ],
          "name": "stdout"
        }
      ]
    },
    {
      "cell_type": "code",
      "metadata": {
        "id": "m_I6Bebh8psm",
        "colab": {
          "base_uri": "https://localhost:8080/",
          "height": 34
        },
        "outputId": "87bf4ad8-074c-48a7-a7be-88e67346ae8b"
      },
      "source": [
        "# false positive rate\n",
        "false_positive_rate = FP / float(FP + TN)\n",
        "print('False Positive Rate : {0:0.4f}'.format(false_positive_rate))"
      ],
      "execution_count": null,
      "outputs": [
        {
          "output_type": "stream",
          "text": [
            "False Positive Rate : 0.1319\n"
          ],
          "name": "stdout"
        }
      ]
    },
    {
      "cell_type": "code",
      "metadata": {
        "id": "c85wCMaD8psp",
        "colab": {
          "base_uri": "https://localhost:8080/",
          "height": 51
        },
        "outputId": "826ce82f-fe92-42ae-c9b8-e4019bd55636"
      },
      "source": [
        "# Checking the accuracy accuracy_score\n",
        "# printing the accuracy of the training set\n",
        "from sklearn.metrics import accuracy_score\n",
        "print('Accuracy' + str(accuracy_score(y_test, y_pred)))\n",
        "print('Model accuracy score: {0:0.4f}'. format(accuracy_score(y_test, y_pred)))\n",
        "## the accuracy of this evaluation is less than 1"
      ],
      "execution_count": null,
      "outputs": [
        {
          "output_type": "stream",
          "text": [
            "Accuracy0.8306010928961749\n",
            "Model accuracy score: 0.8306\n"
          ],
          "name": "stdout"
        }
      ]
    },
    {
      "cell_type": "markdown",
      "metadata": {
        "id": "F0PwnNTz85cf"
      },
      "source": [
        "## **PART 3: 60:40 partition**"
      ]
    },
    {
      "cell_type": "code",
      "metadata": {
        "id": "BlyNZWaj85ci"
      },
      "source": [
        "# importing the required libraries\n",
        "from sklearn.model_selection import train_test_split"
      ],
      "execution_count": null,
      "outputs": []
    },
    {
      "cell_type": "code",
      "metadata": {
        "id": "rXye0Tqw85cq"
      },
      "source": [
        "# implementing the solution with the firt partitioning\n",
        "# preprocessing\n",
        "# declaring feature vector and target variables\n",
        "X = df3.drop(['Sex'], axis=1)\n",
        "y = df3['Sex']"
      ],
      "execution_count": null,
      "outputs": []
    },
    {
      "cell_type": "code",
      "metadata": {
        "id": "t8JzkWkG85cy"
      },
      "source": [
        "# splitting the dataset into training and test sets\n",
        "# Train using 60% of the data.\n",
        "from sklearn.model_selection import train_test_split\n",
        "X_train, X_test, y_train, y_test = train_test_split(X, y, test_size=0.40)"
      ],
      "execution_count": null,
      "outputs": []
    },
    {
      "cell_type": "code",
      "metadata": {
        "id": "JZVX4E9A85c8",
        "colab": {
          "base_uri": "https://localhost:8080/",
          "height": 85
        },
        "outputId": "50a5c314-b071-44b5-f376-c9efffbc540b"
      },
      "source": [
        "# checking the shapes of the train and test sets\n",
        "print(X_train.shape)\n",
        "print(y_train.shape)\n",
        "print(X_test.shape)\n",
        "print(y_test.shape)"
      ],
      "execution_count": null,
      "outputs": [
        {
          "output_type": "stream",
          "text": [
            "(364, 6)\n",
            "(364,)\n",
            "(244, 6)\n",
            "(244,)\n"
          ],
          "name": "stdout"
        }
      ]
    },
    {
      "cell_type": "code",
      "metadata": {
        "id": "cD_hEqiS85dH",
        "colab": {
          "base_uri": "https://localhost:8080/",
          "height": 238
        },
        "outputId": "b1ee1fe1-98be-440c-b98e-eddf32bbab2e"
      },
      "source": [
        "# feature scaling \n",
        "# normalization\n",
        "from sklearn.preprocessing import StandardScaler\n",
        "scaler = StandardScaler()\n",
        "scaler.fit(X_train)\n",
        "#\n",
        "X_train = scaler.transform(X_train)\n",
        "X_test = scaler.transform(X_test)\n",
        "# X_train = pd.DataFrame(X_train, columns=[cols])\n",
        "# X_test = pd.DataFrame(X_test, columns=[cols])\n",
        "# X_train.describe()\n",
        "X_train"
      ],
      "execution_count": null,
      "outputs": [
        {
          "output_type": "execute_result",
          "data": {
            "text/plain": [
              "array([[ 1.58113883,  0.69737266, -1.32668414, -0.47863442,  0.        ,\n",
              "        -0.60453447],\n",
              "       [-0.63245553,  0.69737266,  0.10357598, -0.47863442,  0.        ,\n",
              "        -0.60453447],\n",
              "       [ 1.58113883, -1.91957217, -1.32668414,  1.59544807,  0.        ,\n",
              "         2.77854532],\n",
              "       ...,\n",
              "       [ 1.58113883,  0.69737266,  0.3324176 , -0.47863442,  0.        ,\n",
              "        -0.45417536],\n",
              "       [-0.63245553,  0.69737266,  0.16078639,  1.59544807,  0.        ,\n",
              "        -0.07827761],\n",
              "       [ 1.58113883,  0.69737266, -1.32668414,  1.59544807,  0.        ,\n",
              "         0.07208149]])"
            ]
          },
          "metadata": {
            "tags": []
          },
          "execution_count": 76
        }
      ]
    },
    {
      "cell_type": "code",
      "metadata": {
        "id": "jUvi5ZA_85dR",
        "colab": {
          "base_uri": "https://localhost:8080/",
          "height": 68
        },
        "outputId": "b53b0541-4788-4869-adc0-3a0167f3ec16"
      },
      "source": [
        "# Fitting K Neighbours Classifier to the training eet\n",
        "# Training and Making Predictions\n",
        "from sklearn.neighbors import KNeighborsClassifier\n",
        "# instantiating the model\n",
        "classifier = KNeighborsClassifier(n_neighbors=5)\n",
        "# fitting the model to the training set\n",
        "classifier.fit(X_train, y_train)"
      ],
      "execution_count": null,
      "outputs": [
        {
          "output_type": "execute_result",
          "data": {
            "text/plain": [
              "KNeighborsClassifier(algorithm='auto', leaf_size=30, metric='minkowski',\n",
              "                     metric_params=None, n_jobs=None, n_neighbors=5, p=2,\n",
              "                     weights='uniform')"
            ]
          },
          "metadata": {
            "tags": []
          },
          "execution_count": 77
        }
      ]
    },
    {
      "cell_type": "code",
      "metadata": {
        "id": "IQsCLBxs85dj",
        "colab": {
          "base_uri": "https://localhost:8080/",
          "height": 561
        },
        "outputId": "7c32a8f0-2fe6-44bd-869a-0cef599e9fcd"
      },
      "source": [
        "# comparing the accuracy of both the train and test sets\n",
        "# Predicting the Test set results\n",
        "y_pred = classifier.predict(X_test)\n",
        "y_pred\n",
        "\n",
        "# displays the predicted values of y"
      ],
      "execution_count": null,
      "outputs": [
        {
          "output_type": "execute_result",
          "data": {
            "text/plain": [
              "array(['male', 'male', 'male', 'male', 'male', 'male', 'male', 'male',\n",
              "       'female', 'male', 'male', 'male', 'male', 'male', 'male', 'male',\n",
              "       'male', 'male', 'male', 'male', 'male', 'male', 'male', 'male',\n",
              "       'male', 'male', 'male', 'male', 'male', 'male', 'male', 'male',\n",
              "       'male', 'male', 'male', 'female', 'male', 'male', 'female', 'male',\n",
              "       'female', 'male', 'female', 'male', 'male', 'male', 'male', 'male',\n",
              "       'male', 'female', 'male', 'male', 'male', 'male', 'male', 'male',\n",
              "       'male', 'male', 'male', 'male', 'male', 'male', 'female', 'female',\n",
              "       'female', 'male', 'male', 'male', 'male', 'male', 'male', 'male',\n",
              "       'female', 'male', 'male', 'male', 'male', 'male', 'female', 'male',\n",
              "       'male', 'female', 'male', 'male', 'male', 'male', 'male', 'male',\n",
              "       'male', 'female', 'male', 'male', 'male', 'female', 'male', 'male',\n",
              "       'male', 'male', 'male', 'male', 'male', 'male', 'female', 'male',\n",
              "       'female', 'male', 'male', 'male', 'male', 'male', 'male', 'male',\n",
              "       'female', 'female', 'male', 'female', 'female', 'male', 'male',\n",
              "       'male', 'male', 'male', 'male', 'female', 'male', 'male', 'male',\n",
              "       'female', 'male', 'male', 'male', 'female', 'male', 'male',\n",
              "       'female', 'male', 'female', 'male', 'female', 'male', 'male',\n",
              "       'male', 'male', 'male', 'male', 'male', 'male', 'male', 'female',\n",
              "       'female', 'male', 'male', 'female', 'male', 'male', 'male', 'male',\n",
              "       'male', 'male', 'female', 'male', 'male', 'male', 'male', 'male',\n",
              "       'male', 'female', 'male', 'male', 'male', 'male', 'male', 'male',\n",
              "       'male', 'male', 'female', 'female', 'male', 'female', 'male',\n",
              "       'female', 'male', 'male', 'male', 'male', 'female', 'male', 'male',\n",
              "       'female', 'male', 'female', 'male', 'female', 'male', 'male',\n",
              "       'male', 'male', 'male', 'male', 'male', 'male', 'male', 'male',\n",
              "       'male', 'female', 'male', 'male', 'male', 'male', 'male', 'male',\n",
              "       'male', 'male', 'male', 'male', 'male', 'female', 'male', 'male',\n",
              "       'male', 'male', 'female', 'male', 'male', 'male', 'male', 'male',\n",
              "       'male', 'female', 'female', 'male', 'male', 'female', 'male',\n",
              "       'male', 'male', 'female', 'male', 'male', 'male', 'female', 'male',\n",
              "       'male', 'female'], dtype=object)"
            ]
          },
          "metadata": {
            "tags": []
          },
          "execution_count": 78
        }
      ]
    },
    {
      "cell_type": "code",
      "metadata": {
        "id": "gFmxjER-85dy",
        "colab": {
          "base_uri": "https://localhost:8080/",
          "height": 221
        },
        "outputId": "908007f7-a13f-44ee-c1ec-8a922294a410"
      },
      "source": [
        "# evaluating the algorithm\n",
        "from sklearn.metrics import classification_report, confusion_matrix\n",
        "# Print the Confusion Matrix with k =5 and slice it into four pieces\n",
        "from sklearn.metrics import confusion_matrix\n",
        "cm = confusion_matrix(y_test, y_pred)\n",
        "\n",
        "print('Confusion matrix\\n\\n', cm)\n",
        "print('\\nTrue Positives(TP) = ', cm[0,0])\n",
        "print('\\nTrue Negatives(TN) = ', cm[1,1])\n",
        "print('\\nFalse Positives(FP) = ', cm[0,1])\n",
        "print('\\nFalse Negatives(FN) = ', cm[1,0])"
      ],
      "execution_count": null,
      "outputs": [
        {
          "output_type": "stream",
          "text": [
            "Confusion matrix\n",
            "\n",
            " [[ 40  25]\n",
            " [  8 171]]\n",
            "\n",
            "True Positives(TP) =  40\n",
            "\n",
            "True Negatives(TN) =  171\n",
            "\n",
            "False Positives(FP) =  25\n",
            "\n",
            "False Negatives(FN) =  8\n"
          ],
          "name": "stdout"
        }
      ]
    },
    {
      "cell_type": "markdown",
      "metadata": {
        "id": "VZL1NaKc85eB"
      },
      "source": [
        "The confusion matrix is used to measure the performance of an machine learning algorithm, usually a supervised learning one. \n",
        "\n",
        "Each row of the confusion matrix represents the instances of an actual class and each column represents the instances of a predicted class.\n",
        "\n",
        "that is evident with the matrix shown above"
      ]
    },
    {
      "cell_type": "markdown",
      "metadata": {
        "id": "YiVldF6W85eD"
      },
      "source": [
        "True Positives(TP) =  40\n",
        "\n",
        "True Negatives(TN) =  171\n",
        "\n",
        "False Positives(FP) =  25\n",
        "\n",
        "False Negatives(FN) =  8\n",
        "\n",
        "The confusion matrix shows 40 + 171 = 211 correct predictions and 25 + 8 = 33 incorrect predictions.\n",
        "\n"
      ]
    },
    {
      "cell_type": "code",
      "metadata": {
        "id": "pWpaZoWq85eF",
        "colab": {
          "base_uri": "https://localhost:8080/",
          "height": 299
        },
        "outputId": "a8e9738e-024e-4daf-ec96-f5f56e52eaca"
      },
      "source": [
        "# visualizing the confusion matrix with seaborn heatmap\n",
        "cm_matrix = pd.DataFrame(data=cm, columns=['Actual Positive:1', 'Actual Negative:0'], \n",
        "                                 index=['Predict Positive:1', 'Predict Negative:0'])\n",
        "\n",
        "sns.heatmap(cm_matrix, annot=True, fmt='d', cmap='YlGnBu')"
      ],
      "execution_count": null,
      "outputs": [
        {
          "output_type": "execute_result",
          "data": {
            "text/plain": [
              "<matplotlib.axes._subplots.AxesSubplot at 0x7f65cf54b780>"
            ]
          },
          "metadata": {
            "tags": []
          },
          "execution_count": 80
        },
        {
          "output_type": "display_data",
          "data": {
            "image/png": "[encoded data removed]",
            "text/plain": [
              "<Figure size 432x288 with 2 Axes>"
            ]
          },
          "metadata": {
            "tags": [],
            "needs_background": "light"
          }
        }
      ]
    },
    {
      "cell_type": "code",
      "metadata": {
        "id": "FM55N8RI85eQ",
        "colab": {
          "base_uri": "https://localhost:8080/",
          "height": 170
        },
        "outputId": "4cb52c94-9750-4ce0-d85c-d52a61db4c0a"
      },
      "source": [
        "# Classification metrices\n",
        "print(classification_report(y_test, y_pred))"
      ],
      "execution_count": null,
      "outputs": [
        {
          "output_type": "stream",
          "text": [
            "              precision    recall  f1-score   support\n",
            "\n",
            "      female       0.83      0.62      0.71        65\n",
            "        male       0.87      0.96      0.91       179\n",
            "\n",
            "    accuracy                           0.86       244\n",
            "   macro avg       0.85      0.79      0.81       244\n",
            "weighted avg       0.86      0.86      0.86       244\n",
            "\n"
          ],
          "name": "stdout"
        }
      ]
    },
    {
      "cell_type": "code",
      "metadata": {
        "id": "TdU2_8Er85eb"
      },
      "source": [
        "# classification accuracies\n",
        "TP = cm[0,0]\n",
        "TN = cm[1,1]\n",
        "FP = cm[0,1]\n",
        "FN = cm[1,0]"
      ],
      "execution_count": null,
      "outputs": []
    },
    {
      "cell_type": "code",
      "metadata": {
        "id": "VfEBwJ4N85ee",
        "colab": {
          "base_uri": "https://localhost:8080/",
          "height": 34
        },
        "outputId": "79917478-15c6-45fb-9d5e-ffe53bb9e6ac"
      },
      "source": [
        "# printing the classification accuracy\n",
        "\n",
        "classification_accuracy = (TP + TN) / float(TP + TN + FP + FN)\n",
        "print('Classification accuracy : {0:0.4f}'.format(classification_accuracy))"
      ],
      "execution_count": null,
      "outputs": [
        {
          "output_type": "stream",
          "text": [
            "Classification accuracy : 0.8648\n"
          ],
          "name": "stdout"
        }
      ]
    },
    {
      "cell_type": "code",
      "metadata": {
        "id": "WZiNr9_085eh",
        "colab": {
          "base_uri": "https://localhost:8080/",
          "height": 34
        },
        "outputId": "fa080330-da73-4291-cd7c-25389cb38052"
      },
      "source": [
        "# printing the classification error\n",
        "\n",
        "classification_error = (FP + FN) / float(TP + TN + FP + FN)\n",
        "print('Classification error : {0:0.4f}'.format(classification_error))"
      ],
      "execution_count": null,
      "outputs": [
        {
          "output_type": "stream",
          "text": [
            "Classification error : 0.1352\n"
          ],
          "name": "stdout"
        }
      ]
    },
    {
      "cell_type": "code",
      "metadata": {
        "id": "lpCmGqmm85el",
        "colab": {
          "base_uri": "https://localhost:8080/",
          "height": 34
        },
        "outputId": "41332483-5c99-45fd-dd94-7c64d689d91c"
      },
      "source": [
        "# printing the precision score\n",
        "\n",
        "precision = TP / float(TP + FP)\n",
        "print('Precision : {0:0.4f}'.format(precision))"
      ],
      "execution_count": null,
      "outputs": [
        {
          "output_type": "stream",
          "text": [
            "Precision : 0.6154\n"
          ],
          "name": "stdout"
        }
      ]
    },
    {
      "cell_type": "code",
      "metadata": {
        "id": "xPR34Bql85eq",
        "colab": {
          "base_uri": "https://localhost:8080/",
          "height": 34
        },
        "outputId": "b4107e64-5b70-4394-cf05-8e7efb26c880"
      },
      "source": [
        "# printing recall\n",
        "\n",
        "recall = TP / float(TP + FN)\n",
        "print('Recall or Sensitivity : {0:0.4f}'.format(recall))"
      ],
      "execution_count": null,
      "outputs": [
        {
          "output_type": "stream",
          "text": [
            "Recall or Sensitivity : 0.8333\n"
          ],
          "name": "stdout"
        }
      ]
    },
    {
      "cell_type": "code",
      "metadata": {
        "id": "CwyKwWvZ85et",
        "colab": {
          "base_uri": "https://localhost:8080/",
          "height": 34
        },
        "outputId": "84723021-0588-464e-993d-b3387fff2864"
      },
      "source": [
        "# true positive rate\n",
        "\n",
        "true_positive_rate = TP / float(TP + FN)\n",
        "print('True Positive Rate : {0:0.4f}'.format(true_positive_rate))"
      ],
      "execution_count": null,
      "outputs": [
        {
          "output_type": "stream",
          "text": [
            "True Positive Rate : 0.8333\n"
          ],
          "name": "stdout"
        }
      ]
    },
    {
      "cell_type": "code",
      "metadata": {
        "id": "oZax_Oax85ey",
        "colab": {
          "base_uri": "https://localhost:8080/",
          "height": 34
        },
        "outputId": "00f4fab2-7cc0-4e57-bff3-275f42d32c79"
      },
      "source": [
        "# specificity\n",
        "\n",
        "specificity = TN / (TN + FP)\n",
        "print('Specificity : {0:0.4f}'.format(specificity))"
      ],
      "execution_count": null,
      "outputs": [
        {
          "output_type": "stream",
          "text": [
            "Specificity : 0.8724\n"
          ],
          "name": "stdout"
        }
      ]
    },
    {
      "cell_type": "code",
      "metadata": {
        "id": "71zi1HUx85e1",
        "colab": {
          "base_uri": "https://localhost:8080/",
          "height": 34
        },
        "outputId": "5640218b-9e20-45dd-c3ac-4f398b68163f"
      },
      "source": [
        "# false positive rate\n",
        "false_positive_rate = FP / float(FP + TN)\n",
        "print('False Positive Rate : {0:0.4f}'.format(false_positive_rate))"
      ],
      "execution_count": null,
      "outputs": [
        {
          "output_type": "stream",
          "text": [
            "False Positive Rate : 0.1276\n"
          ],
          "name": "stdout"
        }
      ]
    },
    {
      "cell_type": "code",
      "metadata": {
        "id": "A8oQyS6x85e5",
        "colab": {
          "base_uri": "https://localhost:8080/",
          "height": 51
        },
        "outputId": "a35f3566-d9ac-47e9-86fb-474439ab6e4b"
      },
      "source": [
        "# Checking the accuracy accuracy_score\n",
        "# printing the accuracy of the training set\n",
        "from sklearn.metrics import accuracy_score\n",
        "print('Accuracy' + str(accuracy_score(y_test, y_pred)))\n",
        "print('Model accuracy score: {0:0.4f}'. format(accuracy_score(y_test, y_pred)))\n",
        "## the accuracy of this evaluation is less than 1"
      ],
      "execution_count": null,
      "outputs": [
        {
          "output_type": "stream",
          "text": [
            "Accuracy0.8647540983606558\n",
            "Model accuracy score: 0.8648\n"
          ],
          "name": "stdout"
        }
      ]
    },
    {
      "cell_type": "markdown",
      "metadata": {
        "id": "o_WyzsZ6xqZN"
      },
      "source": [
        "## **`Hyperparameter Optimization using GridSearch CV`**"
      ]
    },
    {
      "cell_type": "code",
      "metadata": {
        "id": "38KWR3OXzTCe",
        "colab": {
          "base_uri": "https://localhost:8080/",
          "height": 221
        },
        "outputId": "ce859239-4c29-419e-e260-373596e5fe44"
      },
      "source": [
        "# import GridSearchCV\n",
        "from sklearn.model_selection import GridSearchCV\n",
        "k_range=range(1,31)\n",
        "print(k_range)\n",
        "param_grid=dict(n_neighbors=k_range)\n",
        "print (param_grid)\n",
        "#\n",
        "grid_search = GridSearchCV(classifier,param_grid,cv=10,scoring='accuracy')\n",
        "#\n",
        "grid_search.fit(X_train, y_train)"
      ],
      "execution_count": null,
      "outputs": [
        {
          "output_type": "stream",
          "text": [
            "range(1, 31)\n",
            "{'n_neighbors': range(1, 31)}\n"
          ],
          "name": "stdout"
        },
        {
          "output_type": "execute_result",
          "data": {
            "text/plain": [
              "GridSearchCV(cv=10, error_score=nan,\n",
              "             estimator=KNeighborsClassifier(algorithm='auto', leaf_size=30,\n",
              "                                            metric='minkowski',\n",
              "                                            metric_params=None, n_jobs=None,\n",
              "                                            n_neighbors=5, p=2,\n",
              "                                            weights='uniform'),\n",
              "             iid='deprecated', n_jobs=None,\n",
              "             param_grid={'n_neighbors': range(1, 31)}, pre_dispatch='2*n_jobs',\n",
              "             refit=True, return_train_score=False, scoring='accuracy',\n",
              "             verbose=0)"
            ]
          },
          "metadata": {
            "tags": []
          },
          "execution_count": 91
        }
      ]
    },
    {
      "cell_type": "code",
      "metadata": {
        "id": "RG8dfYOO7Epk",
        "colab": {
          "base_uri": "https://localhost:8080/",
          "height": 238
        },
        "outputId": "c6c65f67-879b-4462-86de-929cbf26cdd7"
      },
      "source": [
        "# examining the best model\n",
        "# best score achieved during the GridSearchCV\n",
        "print('GridSearch CV best score : {:.4f}\\n\\n'.format(grid_search.best_score_))\n",
        "# print parameters that give the best results\n",
        "print('Parameters that give the best results :','\\n\\n', (grid_search.best_params_))\n",
        "# print estimator that was chosen by the GridSearch\n",
        "print('\\n\\nEstimator that was chosen by the search :','\\n\\n', (grid_search.best_estimator_))"
      ],
      "execution_count": null,
      "outputs": [
        {
          "output_type": "stream",
          "text": [
            "GridSearch CV best score : 0.8460\n",
            "\n",
            "\n",
            "Parameters that give the best results : \n",
            "\n",
            " {'n_neighbors': 9}\n",
            "\n",
            "\n",
            "Estimator that was chosen by the search : \n",
            "\n",
            " KNeighborsClassifier(algorithm='auto', leaf_size=30, metric='minkowski',\n",
            "                     metric_params=None, n_jobs=None, n_neighbors=9, p=2,\n",
            "                     weights='uniform')\n"
          ],
          "name": "stdout"
        }
      ]
    },
    {
      "cell_type": "code",
      "metadata": {
        "id": "k-_silxj7nSh",
        "colab": {
          "base_uri": "https://localhost:8080/",
          "height": 34
        },
        "outputId": "74f3e0a1-37f6-46de-cf5b-8e7138d81b6c"
      },
      "source": [
        "# calculating GridSearch CV score on test set\n",
        "\n",
        "print('GridSearch CV score on test set: {0:0.4f}'.format(grid_search.score(X_test, y_test)))"
      ],
      "execution_count": null,
      "outputs": [
        {
          "output_type": "stream",
          "text": [
            "GridSearch CV score on test set: 0.8607\n"
          ],
          "name": "stdout"
        }
      ]
    },
    {
      "cell_type": "markdown",
      "metadata": {
        "id": "LHDmNbHsx6aF"
      },
      "source": [
        "## **Results and Conclusion**"
      ]
    },
    {
      "cell_type": "markdown",
      "metadata": {
        "id": "kx4RzeyF-7S7"
      },
      "source": [
        "\n",
        "the partitions were as follows along with their accuracy scores\n",
        "\n",
        "> 80:20 - Model accuracy score: 0.8607\n",
        "\n",
        "> 70:30 - Model accuracy score: 0.8306\n",
        "\n",
        "\n",
        "> 60:40 - Model accuracy score: 0.8648\n",
        "\n",
        "\n",
        "1. from the three partitions, the model that was more accurate was the one divided into 60:40 sets. this particular model had an accuracy score of 0.8648\n",
        "\n",
        "2. the Parameters that gave the best results : \n",
        "\n",
        " {'n_neighbors': 9}"
      ]
    },
    {
      "cell_type": "markdown",
      "metadata": {
        "id": "ElboMmDUARnG"
      },
      "source": [
        "from the predictions, there were more males than females in the train"
      ]
    }
  ]
}